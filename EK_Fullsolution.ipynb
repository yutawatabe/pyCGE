{
  "nbformat": 4,
  "nbformat_minor": 0,
  "metadata": {
    "colab": {
      "provenance": [],
      "toc_visible": true,
      "authorship_tag": "ABX9TyOWIbbFGkyoa0WzjC5qwbVa",
      "include_colab_link": true
    },
    "kernelspec": {
      "name": "python3",
      "display_name": "Python 3"
    },
    "language_info": {
      "name": "python"
    }
  },
  "cells": [
    {
      "cell_type": "markdown",
      "metadata": {
        "id": "view-in-github",
        "colab_type": "text"
      },
      "source": [
        "<a href=\"https://colab.research.google.com/github/yutawatabe/pyCGE/blob/main/EK_Fullsolution.ipynb\" target=\"_parent\"><img src=\"https://colab.research.google.com/assets/colab-badge.svg\" alt=\"Open In Colab\"/></a>"
      ]
    },
    {
      "cell_type": "markdown",
      "source": [
        "# 均衡の計算\n",
        "\n",
        "シミュレートした適当なパラメーターから均衡の計算を行います。\n",
        "\n",
        "これらのステップを踏みます\n",
        "1. パラメータの設定\n",
        "2. パラメータと、ある賃金の下での（超過）労働需要の計算\n",
        "3. 超過労働需要をもとに、賃金のアップデート\n",
        "4. 2から3を関数にして、ループする。超過労働需要が収束することを確認する\n",
        "5. 超過労働需要がない状態を確認し、賃金と貿易を出力する"
      ],
      "metadata": {
        "id": "XV5vNHAwd6a7"
      }
    },
    {
      "cell_type": "code",
      "source": [
        "# numpy, mathをインポート\n",
        "import numpy as np # 行列計算のライブラリ\n",
        "from math import gamma # 価格指数のため"
      ],
      "metadata": {
        "id": "7WLt4RIYIuxU"
      },
      "execution_count": null,
      "outputs": []
    },
    {
      "cell_type": "markdown",
      "source": [
        "# パラメーターの設定"
      ],
      "metadata": {
        "id": "EmqqODmOIoZ3"
      }
    },
    {
      "cell_type": "code",
      "execution_count": null,
      "metadata": {
        "id": "ejM5utGkF5nn"
      },
      "outputs": [],
      "source": [
        "N = 3 # 国の数\n",
        "theta = 4 # 貿易弾力性のパラメーター\n",
        "sigma = 3 # 代替の弾力性のパラメーター"
      ]
    },
    {
      "cell_type": "code",
      "source": [
        "# np.arrayはベクトルを作るための関数。ここではベクトル（一次元）、行列（二次元）しか扱わないが、多次元の行列ももちろん作ることができる。\n",
        "T = np.array([1., 1., 1.]) # 技術パラメーター\n",
        "\n",
        "# printを行うことで、Tの中身を表示させる。\n",
        "# T.shapeはTのshape（ベクトルの形）を求めるもの。それをprintして、行列が正しい形かを確認する。\n",
        "print(T)\n",
        "print(T.shape)"
      ],
      "metadata": {
        "colab": {
          "base_uri": "https://localhost:8080/"
        },
        "id": "G2_TRcxWH1r-",
        "outputId": "4decddf6-8db1-4c07-db66-c6452d854d94"
      },
      "execution_count": null,
      "outputs": [
        {
          "output_type": "stream",
          "name": "stdout",
          "text": [
            "[1. 1. 1.]\n",
            "(3,)\n"
          ]
        }
      ]
    },
    {
      "cell_type": "code",
      "source": [
        "L_S = np.array([1,1.5,1.5]) # 人口\n",
        "print(L_S)\n",
        "print(L_S.shape)"
      ],
      "metadata": {
        "colab": {
          "base_uri": "https://localhost:8080/"
        },
        "id": "8yR40FyqH9oU",
        "outputId": "967319b1-7aeb-4b40-ed16-7d53c66fa911"
      },
      "execution_count": null,
      "outputs": [
        {
          "output_type": "stream",
          "name": "stdout",
          "text": [
            "[1.  1.5 1.5]\n",
            "(3,)\n"
          ]
        }
      ]
    },
    {
      "cell_type": "markdown",
      "source": [
        "$\\boldsymbol{d}$を設定します。まず $\\boldsymbol{d}$のすべての要素を1.5として、そのあとにfor ループを使用して国内貿易費用を1に変更します。"
      ],
      "metadata": {
        "id": "XLpJmOpfjucF"
      }
    },
    {
      "cell_type": "code",
      "source": [
        "d = np.ones((N,N)) * 1.5 # 貿易費用の初期設定を作る。\n",
        "print(d)\n",
        "print(d.shape)\n",
        "# Pythonにおけるfor loopは以下のように書ける。\n",
        "# 細かく言えば、ここではORという変数を用意して、それが0からN-1まで順に上がっていくループになっている。\n",
        "# d[OR,OR] = 1 とすることで、 d[0,0] = 1, d[1,1] = 1, ... のように国内貿易費用を1にする動作をそれぞれの国で行っている。\n",
        "for OR in np.ndindex((N)):\n",
        "  d[OR,OR] = 1 #国内貿易費用は1\n",
        "\n",
        "print(d)"
      ],
      "metadata": {
        "colab": {
          "base_uri": "https://localhost:8080/"
        },
        "id": "p_yih9k-H6dC",
        "outputId": "48955837-4b51-458b-f6b3-ba14b661060f"
      },
      "execution_count": null,
      "outputs": [
        {
          "output_type": "stream",
          "name": "stdout",
          "text": [
            "[[1.5 1.5 1.5]\n",
            " [1.5 1.5 1.5]\n",
            " [1.5 1.5 1.5]]\n",
            "(3, 3)\n",
            "[[1.  1.5 1.5]\n",
            " [1.5 1.  1.5]\n",
            " [1.5 1.5 1. ]]\n"
          ]
        }
      ]
    },
    {
      "cell_type": "markdown",
      "source": [
        "#（超過）労働需要の計算\n",
        "\n",
        "仮に国の賃金が同一として、果たして労働市場（財市場）が均衡するかを見ます。候補として全ての国 $i$ に対して\n",
        "$$ w_i = 0.25 $$\n",
        "を考えます\n"
      ],
      "metadata": {
        "id": "9-l0QARYeRv4"
      }
    },
    {
      "cell_type": "code",
      "source": [
        "w = np.ones((N)) / 4\n",
        "print(w)"
      ],
      "metadata": {
        "colab": {
          "base_uri": "https://localhost:8080/"
        },
        "id": "0YhFoXwrgQ5z",
        "outputId": "bca8ed44-91ad-448e-f150-e828f3f1c0a0"
      },
      "execution_count": null,
      "outputs": [
        {
          "output_type": "stream",
          "name": "stdout",
          "text": [
            "[0.25 0.25 0.25]\n"
          ]
        }
      ]
    },
    {
      "cell_type": "markdown",
      "source": [
        "まず総所得（消費）を計算しておきます。$X_n$を総消費とします。この経済では労働のみが生産要素なので、\n",
        "$$Y_n = X_n = w_n L_n$$\n",
        "となります。"
      ],
      "metadata": {
        "id": "MGliF4mtmZY-"
      }
    },
    {
      "cell_type": "code",
      "source": [
        "# w * L でベクトル同士の要素の掛け算になる（内積を取るわけではないことに注意）。\n",
        "Xn = w * L_S\n",
        "print(Xn)"
      ],
      "metadata": {
        "colab": {
          "base_uri": "https://localhost:8080/"
        },
        "id": "S0_mp0ZUmyr6",
        "outputId": "41e7eeff-bfc6-4108-f508-e13a5b9fec2e"
      },
      "execution_count": null,
      "outputs": [
        {
          "output_type": "stream",
          "name": "stdout",
          "text": [
            "[0.25  0.375 0.375]\n"
          ]
        }
      ]
    },
    {
      "cell_type": "markdown",
      "source": [
        "輸入シェアを計算する前に、二次元のループについて説明します。\n",
        "ループは多次元の変数について行うことができます。これを輸入シェアの計算に活用します。\n"
      ],
      "metadata": {
        "id": "JM3mPSm4gHG1"
      }
    },
    {
      "cell_type": "code",
      "source": [
        "# 一次元のループは以下のように書きます。\n",
        "for OR in np.ndindex((N)):\n",
        "  print(OR)\n",
        "\n",
        "# 二次元のループは以下のように書けます。\n",
        "# ここではOR, DEをループする変数として使っています。\n",
        "# np,ndindex(N,N)とは、N×N行列の要素をそれぞれを追っていくようなイメージです。\n",
        "# 具体的には　OR = 0, DE = 0 から OR = 0, DE = 1のように変数が動いていきます。\n",
        "for OR,DE in np.ndindex((N,N)):\n",
        "  print([OR,DE])"
      ],
      "metadata": {
        "colab": {
          "base_uri": "https://localhost:8080/"
        },
        "id": "SW3lqOhWJYR8",
        "outputId": "9b1aeffd-dea5-40b3-a8d9-13afdd8a948b"
      },
      "execution_count": null,
      "outputs": [
        {
          "output_type": "stream",
          "name": "stdout",
          "text": [
            "(0,)\n",
            "(1,)\n",
            "(2,)\n",
            "[0, 0]\n",
            "[0, 1]\n",
            "[0, 2]\n",
            "[1, 0]\n",
            "[1, 1]\n",
            "[1, 2]\n",
            "[2, 0]\n",
            "[2, 1]\n",
            "[2, 2]\n"
          ]
        }
      ]
    },
    {
      "cell_type": "markdown",
      "source": [
        "輸入シェアを計算します。数式は以下のようになります\n",
        "$$ \\pi_{ni} = \\frac{ T_{i} (w_{i} d_{ni})^{-\\theta} }{\\sum_{k=1} T_{k} (w_{k} d_{ki})^{-\\theta} } = \\frac{X_{ni}}{X_i}  $$\n",
        "ここで$X_{ni}$はi国からn国への輸出額になります。コーディングの際には以下のような表記を用います。\n",
        "$$ \\pi_{ni} = \\frac{\\pi_{ni,num}}{\\Phi_{n}} $$\n",
        "ここでは\n",
        "$$ \\pi_{ni,num} = T_{i} (w_{i} d_{ni})^{-\\theta} $$\n",
        "であり、\n",
        "$$ \\Phi_{n} = \\sum_{k=1}^N T_{k} (w_{k} d_{nk})^{-\\theta} $$\n",
        "となります。\n"
      ],
      "metadata": {
        "id": "RyD6me-XgB9U"
      }
    },
    {
      "cell_type": "code",
      "source": [
        "# 輸入シェア（n国の総消費のうち、i国の財が何割を占めるか）の初期の箱を作っておく。\n",
        "# この箱がないと、ループしたときに埋める箱がないのでエラーが出る。\n",
        "pi = np.zeros((N,N))\n",
        "pi_num = np.zeros((N,N)) # 輸入シェアの分子部分\n",
        "Phi = np.zeros((N)) # 輸入シェアの分母部分\n",
        "\n",
        "for OR,DE in np.ndindex((N,N)):\n",
        "  # pi_numの計算で乗数を使う。例えば **(-theta)は-theta乗となる。\n",
        "  pi_num[OR,DE] = T[OR] * (w[OR] * d[OR,DE]) ** (-theta)\n",
        "  # このpi_num[OR,DE]を足し上げてPhi[DE]を作っていく。\n",
        "  # この再帰を繰り返すと、Phi[DE]はpi_num[OR,DE]を最初に次元で足し上げていることになる。\n",
        "  Phi[DE] = Phi[DE] +  pi_num[OR,DE]\n",
        "\n",
        "# 分子を分母で分かって輸入シェアを求める。\n",
        "for OR,DE in np.ndindex((N,N)):\n",
        "  pi[OR,DE] = pi_num[OR,DE] / Phi[DE]\n",
        "\n",
        "print(pi)"
      ],
      "metadata": {
        "colab": {
          "base_uri": "https://localhost:8080/"
        },
        "id": "vG2HtS4SW79e",
        "outputId": "b9631af0-603c-4c57-b6c1-306aaa09fd3a"
      },
      "execution_count": null,
      "outputs": [
        {
          "output_type": "stream",
          "name": "stdout",
          "text": [
            "[[0.71681416 0.14159292 0.14159292]\n",
            " [0.14159292 0.71681416 0.14159292]\n",
            " [0.14159292 0.14159292 0.71681416]]\n"
          ]
        }
      ]
    },
    {
      "cell_type": "markdown",
      "source": [
        "ここで、$\\pi_{in}$の定義上、$ \\sum_{i=1}^N \\pi_{in} = 1 $ が成立するはず。\n",
        "また仮置きした賃金が同一であり、国の技術、貿易費用が対象のため、$\\boldsymbol{\\pi}$も対称になります。それを上で確認します。\n",
        "\n",
        "ここから価格指数を計算しておきます（あとで厚生の評価に使う）\n",
        "$$ P_{n} = \\Gamma \\left( \\frac{\\theta + \\sigma -1}{\\theta} \\right) \\Phi_{n}^{-1/\\theta} $$"
      ],
      "metadata": {
        "id": "6DIAFEAuhoCF"
      }
    },
    {
      "cell_type": "code",
      "source": [
        "# gamma()はガンマ関数を計算する関数。\n",
        "P = gamma((theta + sigma - 1) / theta) **(1/(1-sigma)) * Phi ** (-1/theta)\n",
        "print(P)"
      ],
      "metadata": {
        "colab": {
          "base_uri": "https://localhost:8080/"
        },
        "id": "AFjgvl7WGFPo",
        "outputId": "f1f7ce5c-930b-4078-a870-54a37906a340"
      },
      "execution_count": null,
      "outputs": [
        {
          "output_type": "stream",
          "name": "stdout",
          "text": [
            "[0.24435385 0.24435385 0.24435385]\n"
          ]
        }
      ]
    },
    {
      "cell_type": "markdown",
      "source": [
        "$i$ 国から $n$ 国への輸出は、輸入シェアに輸入国の総消費をかけたものになります。\n",
        "$$X_{ni} = \\pi_{ni} X_n $$"
      ],
      "metadata": {
        "id": "AlrFw4rzmRgb"
      }
    },
    {
      "cell_type": "code",
      "source": [
        "X = np.zeros((N,N))\n",
        "for OR,DE in np.ndindex((N,N)):\n",
        "  X[OR,DE] = pi[OR,DE] * Xn[DE]\n",
        "\n",
        "print(X)"
      ],
      "metadata": {
        "colab": {
          "base_uri": "https://localhost:8080/"
        },
        "id": "6zVtLZQKmUM3",
        "outputId": "c5b92764-ec1a-4d48-8885-3c38c1863d1c"
      },
      "execution_count": null,
      "outputs": [
        {
          "output_type": "stream",
          "name": "stdout",
          "text": [
            "[[0.17920354 0.05309735 0.05309735]\n",
            " [0.03539823 0.26880531 0.05309735]\n",
            " [0.03539823 0.05309735 0.26880531]]\n"
          ]
        }
      ]
    },
    {
      "cell_type": "markdown",
      "source": [
        "ここでは$\\boldsymbol{\\pi}$のように足して1にならず、対称にもなりません。これは需要規模が国によって違うためです（消費者の数が違う）。"
      ],
      "metadata": {
        "id": "LPlMHGkiofd8"
      }
    },
    {
      "cell_type": "markdown",
      "source": [
        "労働需要は、総売上を賃金で割ると導けます。数学的には\n",
        "\n",
        "$$ L_{i,D} = \\frac{ \\sum_{n=1}^N X_{ni}}{w_i} $$\n"
      ],
      "metadata": {
        "id": "a0Y4xdSmk2zj"
      }
    },
    {
      "cell_type": "code",
      "source": [
        "L_D = np.zeros((N))\n",
        "for OR,DE in np.ndindex((N,N)):\n",
        "  L_D[OR] += X[OR,DE] / w[OR] # L_D[OR] = L_D[OR] + X[OR,DE] / w[OR]\n",
        "\n",
        "print(L_D)"
      ],
      "metadata": {
        "id": "GcopTU0Vnuej",
        "colab": {
          "base_uri": "https://localhost:8080/"
        },
        "outputId": "3a3feaa5-352a-4c15-b78c-b8ddee91e430"
      },
      "execution_count": null,
      "outputs": [
        {
          "output_type": "stream",
          "name": "stdout",
          "text": [
            "[1.14159292 1.42920354 1.42920354]\n"
          ]
        }
      ]
    },
    {
      "cell_type": "markdown",
      "source": [
        "**労働市場の均衡の確認**\n",
        "\n",
        "まず労働供給は固定であり、$\\boldsymbol{L} = \\boldsymbol{L}_S$になります。労働の超過需要をZを求めてあげます。\n",
        "\n",
        "$$ Z_{i} = L_{i,D} - L_i $$\n",
        "\n",
        "この賃金が労働市場を均衡させる賃金なら、Zはどの国でも0になるはずです。\n"
      ],
      "metadata": {
        "id": "xOgPAzm8kNSO"
      }
    },
    {
      "cell_type": "code",
      "source": [
        "Z = L_D - L_S\n",
        "print(Z)"
      ],
      "metadata": {
        "colab": {
          "base_uri": "https://localhost:8080/"
        },
        "id": "9qAi915eoRYT",
        "outputId": "67c7b23c-2679-4436-a78c-126adc6ccf47"
      },
      "execution_count": null,
      "outputs": [
        {
          "output_type": "stream",
          "name": "stdout",
          "text": [
            "[ 0.14159292 -0.07079646 -0.07079646]\n"
          ]
        }
      ]
    },
    {
      "cell_type": "markdown",
      "source": [
        "ならない、ということはこの賃金は均衡賃金ではありません！\n",
        "次の賃金候補を探してあげます。今の賃金を $w^0_i$とし（最初のinterationの賃金）、アップデート方法を考えます。ここでは超過需要を用いたアップデータ方を用います。\n",
        "\n",
        "$$ w_{new,i} = w_i * \\left(1 + \\psi * \\frac{Z_i}{L_i}\\right) $$"
      ],
      "metadata": {
        "id": "Tm0jzSifoROG"
      }
    },
    {
      "cell_type": "code",
      "source": [
        "psi = 0.1 # 収束のスピードをコントロールするパラメーター\n",
        "\n",
        "w_new = w * (1 + psi * (Z / L_S) )\n",
        "print(w_new)"
      ],
      "metadata": {
        "id": "9wM767WopTRh",
        "colab": {
          "base_uri": "https://localhost:8080/"
        },
        "outputId": "0ebd5b07-0214-4685-f3de-11d9faefc832"
      },
      "execution_count": null,
      "outputs": [
        {
          "output_type": "stream",
          "name": "stdout",
          "text": [
            "[0.25353982 0.24882006 0.24882006]\n"
          ]
        }
      ]
    },
    {
      "cell_type": "markdown",
      "source": [
        "ここで新しい$w$と古い$w$を比較します。ちゃんと超過需要が発生していた国において賃金が高くなっているか確認できるはずです。"
      ],
      "metadata": {
        "id": "oFLxf4KuoJhJ"
      }
    },
    {
      "cell_type": "code",
      "source": [
        "print(Z)\n",
        "print(w_new - w)"
      ],
      "metadata": {
        "colab": {
          "base_uri": "https://localhost:8080/"
        },
        "id": "d8IMJznXqFex",
        "outputId": "8b392ad8-1dd6-4d3b-b22c-3bd255b564a0"
      },
      "execution_count": null,
      "outputs": [
        {
          "output_type": "stream",
          "name": "stdout",
          "text": [
            "[ 0.14159292 -0.07079646 -0.07079646]\n",
            "[ 0.00353982 -0.00117994 -0.00117994]\n"
          ]
        }
      ]
    },
    {
      "cell_type": "markdown",
      "source": [
        "均衡賃金は基準化なしに一意にはきまりません。最後に世界のGDPが1になるように基準化しておきます。"
      ],
      "metadata": {
        "id": "TsTtoAz5qPyC"
      }
    },
    {
      "cell_type": "code",
      "source": [
        "# np.sumは足し算を取る関数。これは一次元のベクトルなので、要素をすべて足し上げている。\n",
        "wgdp = np.sum(w_new * L_S)\n",
        "print(wgdp)\n",
        "# それぞれの国の賃金を現在の計算での全世界のGDPで割ることにより、改めて世界全体のGDPが1になる。\n",
        "w_new = w_new / wgdp\n",
        "print (np.sum(w_new * L_S))\n"
      ],
      "metadata": {
        "colab": {
          "base_uri": "https://localhost:8080/"
        },
        "id": "Jiz2aVTgqj-k",
        "outputId": "3abadf40-1f85-435c-bb3f-0e537f96b007"
      },
      "execution_count": null,
      "outputs": [
        {
          "output_type": "stream",
          "name": "stdout",
          "text": [
            "1.0\n",
            "1.0\n"
          ]
        }
      ]
    },
    {
      "cell_type": "markdown",
      "source": [
        "# 超過労働需要計算の関数\n",
        "\n",
        "いままでの流れをまとめると\n",
        "\n",
        "1.   パラメーターを設定する\n",
        "2.   仮定した賃金をもとに、輸入シェア、貿易額を計算する\n",
        "3.   貿易額を用いて、労働の超過需要を計算し、仮置きした賃金を更新していく。\n",
        "\n",
        "この2から3を**関数**にまとめます。\n"
      ],
      "metadata": {
        "id": "msJAEo7-q2i_"
      }
    },
    {
      "cell_type": "code",
      "source": [
        "def updatewage(w,theta,sigma,N,L_S,T,d,psi):\n",
        "    \"\"\"\n",
        "    パラメータと経済変数に基づいて賃金を更新します。\n",
        "\n",
        "    この関数は、入力パラメータと経済変数に基づいて新しい賃金値を計算します。\n",
        "\n",
        "    パラメータ:\n",
        "        w (np.ndarray): 異なる国の現在の賃金率の配列。\n",
        "        theta (float): 貿易の弾力性。\n",
        "        sigma (float): 財の代替の弾力性。\n",
        "        N (int): 国の数。\n",
        "        L_S (np.ndarray): 各国の労働供給。\n",
        "        T (np.ndarray): 各国の技術水準。\n",
        "        d (np.ndarray): 国々間の貿易コスト。\n",
        "        psi (float): 賃金調整パラメータ。\n",
        "\n",
        "    戻り値:\n",
        "        w_new (np.ndarray): 更新された国の賃金。\n",
        "        Z (np.ndarray): 各国の超過労働需要\n",
        "        P (np.ndarray): 価格指数。\n",
        "        X (np.ndarray): 国々間の貿易フロー。\n",
        "    \"\"\"\n",
        "    Xn = w * L_S\n",
        "\n",
        "\n",
        "    ## 輸入シェアの計算\n",
        "    pi = np.zeros((N,N)) # 輸入シェア（n国の総消費のうち、i国の財が何割を占めるか）\n",
        "    pi_num = np.zeros((N,N)) # 輸入シェアの分子部分\n",
        "    Phi = np.zeros((N)) # 輸入シェアの分母部分\n",
        "    for OR,DE in np.ndindex((N,N)):\n",
        "      pi_num[OR,DE] = T[OR] * (w[OR] * d[OR,DE]) ** (-theta)\n",
        "      Phi[DE] += pi_num[OR,DE] # pi_den[DE] = pi_den[DE] + pi_num[OR,DE]\n",
        "\n",
        "    for OR,DE in np.ndindex((N,N)):\n",
        "      pi[OR,DE] = pi_num[OR,DE] / Phi[DE]\n",
        "\n",
        "    # 価格指数の計算\n",
        "    P = gamma((theta + sigma - 1) / theta) **(1/(1-sigma)) * Phi ** (-1/theta)\n",
        "\n",
        "    # 輸入額の計算\n",
        "    X = np.zeros((N,N))\n",
        "    for OR,DE in np.ndindex((N,N)):\n",
        "      X[OR,DE] = pi[OR,DE] * Xn[DE]\n",
        "\n",
        "    # 労働超過需要の計算\n",
        "    L_D = np.zeros((N))\n",
        "    for OR,DE in np.ndindex((N,N)):\n",
        "      L_D[OR] += X[OR,DE] / w[OR] # L_D[OR] = L_D[OR] + X[OR,DE] / w[OR]\n",
        "    Z = L_D - L_S\n",
        "\n",
        "    # 賃金の更新と基準化\n",
        "    w_new = w * (1 + psi * (Z / L_S) )\n",
        "    wgdp = np.sum(w_new * L_S)\n",
        "    w_new = w_new / wgdp\n",
        "\n",
        "    return w_new,Z,P,X"
      ],
      "metadata": {
        "id": "jg-qpBE-rTGN"
      },
      "execution_count": null,
      "outputs": []
    },
    {
      "cell_type": "markdown",
      "source": [
        "ここでちゃんと結果が前の関数なしで書いたiterationと一致するかを確認します。"
      ],
      "metadata": {
        "id": "6d339SxLsllg"
      }
    },
    {
      "cell_type": "code",
      "source": [
        "w_newfunc,_,_,_ = updatewage(w,theta=theta,sigma=sigma,N=N,L_S=L_S,T=T,d=d,psi=psi)\n",
        "print(w_newfunc)\n",
        "print(w_new)"
      ],
      "metadata": {
        "colab": {
          "base_uri": "https://localhost:8080/"
        },
        "id": "hZ5Noj83s2Jl",
        "outputId": "8a669432-e7da-41fc-d323-e7b9dde51adb"
      },
      "execution_count": null,
      "outputs": [
        {
          "output_type": "stream",
          "name": "stdout",
          "text": [
            "[0.25353982 0.24882006 0.24882006]\n",
            "[0.25353982 0.24882006 0.24882006]\n"
          ]
        }
      ]
    },
    {
      "cell_type": "markdown",
      "source": [
        "# While-loopの導入\n",
        "\n",
        "ここではwhile loopを用いて、賃金が超過需要を十分に小さくするまで、更新を続けていくようなコードを書いていきます。ここで閾値tolを定義します。While loopとは、ある条件を満たすまで(While)、繰り返し計算を行うようなループになります。ここでは\n",
        "1. 仮置きした賃金を使って超過労働需要を計算\n",
        "2. 超過労働需要から賃金をアップデート\n",
        "3. 超過労働需要がtolより大きければ、1に戻る\n",
        "4. 超過労働需要がtolより小さければ、経済の均衡アウトカムを計算して、出力する"
      ],
      "metadata": {
        "id": "5epOEHyOs12O"
      }
    },
    {
      "cell_type": "code",
      "source": [
        "tol = 0.0001\n",
        "iter = 1\n",
        "\n",
        "# 超過労働需要関数と賃金の初期値を設定してあげる。\n",
        "Z = np.ones((N))\n",
        "w = np.ones((N))\n",
        "\n",
        "# 超過労働需要がtolより大きければ、ここに戻る\n",
        "while max(np.abs(Z)) > tol:\n",
        "  iter += 1\n",
        "  w_old = np.copy(w)\n",
        "  w,Z,P,X = updatewage(w,theta=4,sigma=3,N=3,L_S=L_S,T=T,d=d,psi=0.1)\n",
        "  # Iterationの十回ごとにiterateした回数と、超過労働需要とその時の賃金を表示してあげる。\n",
        "  if iter % 10 == 0:\n",
        "    print(iter)\n",
        "    print(Z)\n",
        "    print(w)\n",
        "\n",
        "  # 収束した場合に、何回iterationが必要だったか、超過需要がどうなっているか、賃金がどうなっているかを表示する。\n",
        "  if max(np.abs(Z)) < tol:\n",
        "    print(\"DONE!\")\n",
        "    print(iter)\n",
        "    print(Z)\n",
        "    print(w)\n"
      ],
      "metadata": {
        "colab": {
          "base_uri": "https://localhost:8080/"
        },
        "id": "KYG-ECJQCSA9",
        "outputId": "1a3c2c8a-b79c-4ac7-e865-e575bfddab71"
      },
      "execution_count": null,
      "outputs": [
        {
          "output_type": "stream",
          "name": "stdout",
          "text": [
            "10\n",
            "[ 0.00559218 -0.00294981 -0.00294981]\n",
            "[0.26031388 0.24656204 0.24656204]\n",
            "20\n",
            "[ 1.13421104e-04 -5.99655974e-05 -5.99655974e-05]\n",
            "[0.26061275 0.24646242 0.24646242]\n",
            "DONE!\n",
            "21\n",
            "[ 7.68427249e-05 -4.06272769e-05 -4.06272769e-05]\n",
            "[0.26061475 0.24646175 0.24646175]\n"
          ]
        }
      ]
    },
    {
      "cell_type": "markdown",
      "source": [
        "厚生を計算します。厚生は\n",
        "$$ U_n = \\frac{w_n}{P_n} $$\n",
        "となります。"
      ],
      "metadata": {
        "id": "lSZXD3uWCRgn"
      }
    },
    {
      "cell_type": "code",
      "source": [
        "U = w / P\n",
        "print(U)"
      ],
      "metadata": {
        "colab": {
          "base_uri": "https://localhost:8080/"
        },
        "id": "LgB7PhI7IZdW",
        "outputId": "3ed4149c-2620-4079-f937-3bc0e8f4833e"
      },
      "execution_count": null,
      "outputs": [
        {
          "output_type": "stream",
          "name": "stdout",
          "text": [
            "[1.04077455 1.0157775  1.0157775 ]\n"
          ]
        }
      ]
    }
  ]
}