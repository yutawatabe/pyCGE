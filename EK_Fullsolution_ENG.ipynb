{
  "nbformat": 4,
  "nbformat_minor": 0,
  "metadata": {
    "colab": {
      "provenance": [],
      "toc_visible": true,
      "authorship_tag": "ABX9TyMjcXM3uQktErTaP76JaByl",
      "include_colab_link": true
    },
    "kernelspec": {
      "name": "python3",
      "display_name": "Python 3"
    },
    "language_info": {
      "name": "python"
    }
  },
  "cells": [
    {
      "cell_type": "markdown",
      "metadata": {
        "id": "view-in-github",
        "colab_type": "text"
      },
      "source": [
        "<a href=\"https://colab.research.google.com/github/yutawatabe/pyCGE/blob/main/EK_Fullsolution_ENG.ipynb\" target=\"_parent\"><img src=\"https://colab.research.google.com/assets/colab-badge.svg\" alt=\"Open In Colab\"/></a>"
      ]
    },
    {
      "cell_type": "markdown",
      "source": [
        "# Equilibrium Calculation\n",
        "\n",
        "We simulate random parameters and calculate the equilibrium.\n",
        "\n",
        "There are five steps\n",
        "1. Set parameters\n",
        "2. Calcualte an excess labor demand from the parmaters and wages.\n",
        "3. Update wages from the excess labor demand.\n",
        "4. Make step 2 and three to a function, and loop them over. Confirm that the excess labor demand converge to zero.\n",
        "5. Confirm that there is no excess labor demand and output wages and trade flows."
      ],
      "metadata": {
        "id": "XV5vNHAwd6a7"
      }
    },
    {
      "cell_type": "code",
      "source": [
        "# import numpy and math\n",
        "import numpy as np # Matrix calculation library\n",
        "from math import gamma # For the price index calculation"
      ],
      "metadata": {
        "id": "7WLt4RIYIuxU"
      },
      "execution_count": null,
      "outputs": []
    },
    {
      "cell_type": "markdown",
      "source": [
        "# Set parameters"
      ],
      "metadata": {
        "id": "EmqqODmOIoZ3"
      }
    },
    {
      "cell_type": "code",
      "execution_count": null,
      "metadata": {
        "id": "ejM5utGkF5nn"
      },
      "outputs": [],
      "source": [
        "N = 3 # Number of countries\n",
        "theta = 4 # Trade elasticity parameter\n",
        "sigma = 3 # Elasticity of substitution paramter"
      ]
    },
    {
      "cell_type": "code",
      "source": [
        "# np.array is a function to create vectors.\n",
        "#  Here we only deal with vectors (one-dimensional) and matrices (two-dimensional)\n",
        "#  but of course it can also create multi-dimensional arrays.\n",
        "T = np.array([1., 1., 1.]) # Technology parameter\n",
        "# By using print, the contents of T are displayed.\n",
        "# T.shape is used to get the shape of T (the shape of the vector).\n",
        "print(T)\n",
        "print(T.shape)"
      ],
      "metadata": {
        "colab": {
          "base_uri": "https://localhost:8080/"
        },
        "id": "G2_TRcxWH1r-",
        "outputId": "4decddf6-8db1-4c07-db66-c6452d854d94"
      },
      "execution_count": null,
      "outputs": [
        {
          "output_type": "stream",
          "name": "stdout",
          "text": [
            "[1. 1. 1.]\n",
            "(3,)\n"
          ]
        }
      ]
    },
    {
      "cell_type": "code",
      "source": [
        "L_S = np.array([1,1.5,1.5]) # Population\n",
        "print(L_S)\n",
        "print(L_S.shape)"
      ],
      "metadata": {
        "colab": {
          "base_uri": "https://localhost:8080/"
        },
        "id": "8yR40FyqH9oU",
        "outputId": "967319b1-7aeb-4b40-ed16-7d53c66fa911"
      },
      "execution_count": null,
      "outputs": [
        {
          "output_type": "stream",
          "name": "stdout",
          "text": [
            "[1.  1.5 1.5]\n",
            "(3,)\n"
          ]
        }
      ]
    },
    {
      "cell_type": "markdown",
      "source": [
        "Set $\\boldsymbol{d}$. First set all the elements of $\\boldsymbol{d}$ as 1.5, and then use for loop to make the domestic trade costs to be 1."
      ],
      "metadata": {
        "id": "XLpJmOpfjucF"
      }
    },
    {
      "cell_type": "code",
      "source": [
        "d = np.ones((N,N)) * 1.5 # Create trade costs matrix\n",
        "print(d)\n",
        "print(d.shape)\n",
        "# A for loop in Python can be written as follows.\n",
        "# To be more precise, here we have a variable called OR, which is a loop that goes up from 0 to N-1 in order.\n",
        "# By setting d[OR,OR] = 1, d[0,0] = 1, d[1,1] = 1, we set the domestic trade cost to 1 in each country.\n",
        "\n",
        "for OR in np.ndindex((N)):\n",
        "  d[OR,OR] = 1 #Domestic trade cost is 1\n",
        "\n",
        "print(d)"
      ],
      "metadata": {
        "colab": {
          "base_uri": "https://localhost:8080/"
        },
        "id": "p_yih9k-H6dC",
        "outputId": "48955837-4b51-458b-f6b3-ba14b661060f"
      },
      "execution_count": null,
      "outputs": [
        {
          "output_type": "stream",
          "name": "stdout",
          "text": [
            "[[1.5 1.5 1.5]\n",
            " [1.5 1.5 1.5]\n",
            " [1.5 1.5 1.5]]\n",
            "(3, 3)\n",
            "[[1.  1.5 1.5]\n",
            " [1.5 1.  1.5]\n",
            " [1.5 1.5 1. ]]\n"
          ]
        }
      ]
    },
    {
      "cell_type": "markdown",
      "source": [
        "# Calculate excess labor demand\n",
        "\n",
        "We first assume all the wages are equal and see if the labor market (good markets) clear. As for candiddate wages, we think of a following:\n",
        "$$ w_i = 0.25. $$\n"
      ],
      "metadata": {
        "id": "9-l0QARYeRv4"
      }
    },
    {
      "cell_type": "code",
      "source": [
        "w = np.ones((N)) / 4\n",
        "print(w)"
      ],
      "metadata": {
        "colab": {
          "base_uri": "https://localhost:8080/"
        },
        "id": "0YhFoXwrgQ5z",
        "outputId": "bca8ed44-91ad-448e-f150-e828f3f1c0a0"
      },
      "execution_count": null,
      "outputs": [
        {
          "output_type": "stream",
          "name": "stdout",
          "text": [
            "[0.25 0.25 0.25]\n"
          ]
        }
      ]
    },
    {
      "cell_type": "markdown",
      "source": [
        "First, let's calculate the total income (consumption). Let $X_n$ be the total consumption. In this economy, labor is the only factor of production, so $$Y_n = X_n = w_n L_n$$ where:\n",
        "\n",
        "$Y_n$ is the total income, $X_n$ is the total consumption, $w_n$ is the nominal wage rate, $L_n$ is the labor input\n",
        "\n",
        "In other words, in an economy where labor is the sole factor of production, the total income equals the total consumption, which is calculated by multiplying the nominal wage rate by the amount of labor input."
      ],
      "metadata": {
        "id": "MGliF4mtmZY-"
      }
    },
    {
      "cell_type": "code",
      "source": [
        "# w * L will be an element-wise vector calculation (it's not an innter product).\n",
        "Xn = w * L_S\n",
        "print(Xn)"
      ],
      "metadata": {
        "colab": {
          "base_uri": "https://localhost:8080/"
        },
        "id": "S0_mp0ZUmyr6",
        "outputId": "41e7eeff-bfc6-4108-f508-e13a5b9fec2e"
      },
      "execution_count": null,
      "outputs": [
        {
          "output_type": "stream",
          "name": "stdout",
          "text": [
            "[0.25  0.375 0.375]\n"
          ]
        }
      ]
    },
    {
      "cell_type": "markdown",
      "source": [
        "Before calculating the import share, I will explain about the two-dimensional loop. We can loop over multiple dimensional variables, and we will utilize it to the calculation of import share.\n"
      ],
      "metadata": {
        "id": "JM3mPSm4gHG1"
      }
    },
    {
      "cell_type": "code",
      "source": [
        "# One-dimensional loop can be written as follows.\n",
        "for OR in np.ndindex((N)):\n",
        "  print(OR)\n",
        "\n",
        "# Two-dimesional loop can be written as follows.\n",
        "# We use OR and DE as looping variables.\n",
        "# np.ndindex(N,N) can be seen as looping the elements (indices) of N×N matrix.\n",
        "# Specifically,the variables moves like OR = 0, DE = 0 to OR = 0, DE = 1.\n",
        "for OR,DE in np.ndindex((N,N)):\n",
        "  print([OR,DE])"
      ],
      "metadata": {
        "colab": {
          "base_uri": "https://localhost:8080/"
        },
        "id": "SW3lqOhWJYR8",
        "outputId": "9b1aeffd-dea5-40b3-a8d9-13afdd8a948b"
      },
      "execution_count": null,
      "outputs": [
        {
          "output_type": "stream",
          "name": "stdout",
          "text": [
            "(0,)\n",
            "(1,)\n",
            "(2,)\n",
            "[0, 0]\n",
            "[0, 1]\n",
            "[0, 2]\n",
            "[1, 0]\n",
            "[1, 1]\n",
            "[1, 2]\n",
            "[2, 0]\n",
            "[2, 1]\n",
            "[2, 2]\n"
          ]
        }
      ]
    },
    {
      "cell_type": "markdown",
      "source": [
        "We calculate the import share. The formula is as follows:\n",
        "$$ \\pi_{in} = \\frac{ T_{i} (w_{i} d_{in})^{-\\theta} }{\\sum_{k=1} T_{k} (w_{k} d_{kn})^{-\\theta} } = \\frac{X_{in}}{X_i} ,$$\n",
        "where $X_{in}$ is export value from country i to country n. As for coding, we write as follows:\n",
        "$$ \\pi_{in} = \\frac{\\pi_{in,num}}{\\Phi_{n}}, $$\n",
        "where\n",
        "$ \\pi_{in,num} = T_{i} (w_{i} d_{in})^{-\\theta} $ and $ \\Phi_{n} = \\sum_{k=1}^N T_{k} (w_{k} d_{kn})^{-\\theta}. $\n",
        "\n"
      ],
      "metadata": {
        "id": "RyD6me-XgB9U"
      }
    },
    {
      "cell_type": "code",
      "source": [
        "# Create an initial matrix for the import share (the share of country i's goods in the total consumption of n countries).\n",
        "# If this box doesn't exist, an error will occur when looping because there will be no box to fill.\n",
        "pi = np.zeros((N, N))\n",
        "pi_num = np.zeros((N, N))  # Numerator part of the import share\n",
        "Phi = np.zeros((N))  # Denominator part of the import share\n",
        "\n",
        "for OR, DE in np.ndindex((N, N)):\n",
        "    # Use multiplicands in the calculation of pi_num. For example, **(−theta) means raised to the power of −theta.\n",
        "    pi_num[OR, DE] = T[OR] * (w[OR] * d[OR, DE]) ** (-theta)\n",
        "\n",
        "    # Add this pi_num[OR, DE] to create Phi[DE].\n",
        "    # By repeating this recursion, Phi[DE] is the sum of pi_num[OR, DE] along the first dimension.\n",
        "    Phi[DE] = Phi[DE] + pi_num[OR, DE]\n",
        "\n",
        "# Divide the numerator by the denominator to obtain the import share.\n",
        "for OR, DE in np.ndindex((N, N)):\n",
        "    pi[OR, DE] = pi_num[OR, DE] / Phi[DE]\n",
        "\n",
        "print(pi)"
      ],
      "metadata": {
        "colab": {
          "base_uri": "https://localhost:8080/"
        },
        "id": "vG2HtS4SW79e",
        "outputId": "b9631af0-603c-4c57-b6c1-306aaa09fd3a"
      },
      "execution_count": null,
      "outputs": [
        {
          "output_type": "stream",
          "name": "stdout",
          "text": [
            "[[0.71681416 0.14159292 0.14159292]\n",
            " [0.14159292 0.71681416 0.14159292]\n",
            " [0.14159292 0.14159292 0.71681416]]\n"
          ]
        }
      ]
    },
    {
      "cell_type": "markdown",
      "source": [
        "By the definition, $\\sum_{i=1}^N \\pi_{in} = 1$ should hold. Also, since the (tentative) wages are identical and the country's technology and trade costs are symmetric, $\\boldsymbol{\\pi}$ should be symmetric. We confirm this above.\n",
        "From here, we calculate the price index (to be used later for welfare evaluation):\n",
        "$$\n",
        "P_n = \\Gamma \\left( \\frac{\\theta + \\sigma -1}{\\theta} \\right) \\Phi_n^{-1/\\theta}\n",
        "$$"
      ],
      "metadata": {
        "id": "6DIAFEAuhoCF"
      }
    },
    {
      "cell_type": "code",
      "source": [
        "# gamma() is a gamma function.\n",
        "P = gamma((theta + sigma - 1) / theta) **(1/(1-sigma)) * Phi ** (-1/theta)\n",
        "print(P)"
      ],
      "metadata": {
        "colab": {
          "base_uri": "https://localhost:8080/"
        },
        "id": "AFjgvl7WGFPo",
        "outputId": "f1f7ce5c-930b-4078-a870-54a37906a340"
      },
      "execution_count": null,
      "outputs": [
        {
          "output_type": "stream",
          "name": "stdout",
          "text": [
            "[0.24435385 0.24435385 0.24435385]\n"
          ]
        }
      ]
    },
    {
      "cell_type": "markdown",
      "source": [
        "Export from country i to country n is an import share times total absorption of country n.\n",
        "$$X_{ni} = \\pi_{ni} X_n $$\n",
        "The export value matrix does not sum to one and is not symmetric because the economic sizes differ across countries."
      ],
      "metadata": {
        "id": "AlrFw4rzmRgb"
      }
    },
    {
      "cell_type": "code",
      "source": [
        "X = np.zeros((N,N))\n",
        "for OR,DE in np.ndindex((N,N)):\n",
        "  X[OR,DE] = pi[OR,DE] * Xn[DE]\n",
        "\n",
        "print(X)"
      ],
      "metadata": {
        "colab": {
          "base_uri": "https://localhost:8080/"
        },
        "id": "6zVtLZQKmUM3",
        "outputId": "c5b92764-ec1a-4d48-8885-3c38c1863d1c"
      },
      "execution_count": null,
      "outputs": [
        {
          "output_type": "stream",
          "name": "stdout",
          "text": [
            "[[0.17920354 0.05309735 0.05309735]\n",
            " [0.03539823 0.26880531 0.05309735]\n",
            " [0.03539823 0.05309735 0.26880531]]\n"
          ]
        }
      ]
    },
    {
      "cell_type": "markdown",
      "source": [
        "Total labor demand is total sales divided by wages:\n",
        "\n",
        "$$ L_{i,D} = \\frac{ \\sum_{n=1}^N X_{ni}}{w_i} $$\n"
      ],
      "metadata": {
        "id": "a0Y4xdSmk2zj"
      }
    },
    {
      "cell_type": "code",
      "source": [
        "L_D = np.zeros((N))\n",
        "for OR,DE in np.ndindex((N,N)):\n",
        "  L_D[OR] += X[OR,DE] / w[OR] # L_D[OR] = L_D[OR] + X[OR,DE] / w[OR]\n",
        "\n",
        "print(L_D)"
      ],
      "metadata": {
        "id": "GcopTU0Vnuej",
        "colab": {
          "base_uri": "https://localhost:8080/"
        },
        "outputId": "3a3feaa5-352a-4c15-b78c-b8ddee91e430"
      },
      "execution_count": null,
      "outputs": [
        {
          "output_type": "stream",
          "name": "stdout",
          "text": [
            "[1.14159292 1.42920354 1.42920354]\n"
          ]
        }
      ]
    },
    {
      "cell_type": "markdown",
      "source": [
        "**Confirm labor makret equilibrium**\n",
        "\n",
        "Labor supply is fixed $(\\boldsymbol{L} = \\boldsymbol{L}_S)$. We derive the excess labor dmeand.\n",
        "$$ Z_{i} = L_{i,D} - L_i $$\n",
        "\n",
        "If the wages are clearing the labor market, $Z_i$ should be zero for all the countries.\n"
      ],
      "metadata": {
        "id": "xOgPAzm8kNSO"
      }
    },
    {
      "cell_type": "code",
      "source": [
        "Z = L_D - L_S\n",
        "print(Z)"
      ],
      "metadata": {
        "colab": {
          "base_uri": "https://localhost:8080/"
        },
        "id": "9qAi915eoRYT",
        "outputId": "67c7b23c-2679-4436-a78c-126adc6ccf47"
      },
      "execution_count": null,
      "outputs": [
        {
          "output_type": "stream",
          "name": "stdout",
          "text": [
            "[ 0.14159292 -0.07079646 -0.07079646]\n"
          ]
        }
      ]
    },
    {
      "cell_type": "markdown",
      "source": [
        "It does not. So the wages are not the equilibrium wages. We look for alternative wages. We write the current wages as $w^0_i$ and update them as follows:\n",
        "\n",
        "$$ w_{new,i} = w_i * \\left(1 + \\psi * \\frac{Z_i}{L_i}\\right) $$"
      ],
      "metadata": {
        "id": "Tm0jzSifoROG"
      }
    },
    {
      "cell_type": "code",
      "source": [
        "psi = 0.1 # Parameter that governs the convergence speed.\n",
        "w_new = w * (1 + psi * (Z / L_S) )\n",
        "print(w_new)"
      ],
      "metadata": {
        "id": "9wM767WopTRh",
        "colab": {
          "base_uri": "https://localhost:8080/"
        },
        "outputId": "0ebd5b07-0214-4685-f3de-11d9faefc832"
      },
      "execution_count": null,
      "outputs": [
        {
          "output_type": "stream",
          "name": "stdout",
          "text": [
            "[0.25353982 0.24882006 0.24882006]\n"
          ]
        }
      ]
    },
    {
      "cell_type": "markdown",
      "source": [
        "Now we compare new wages and old wages. We confirm that the wages are higher in the countries where there are excess labor demands."
      ],
      "metadata": {
        "id": "oFLxf4KuoJhJ"
      }
    },
    {
      "cell_type": "code",
      "source": [
        "print(Z)\n",
        "print(w_new - w)"
      ],
      "metadata": {
        "colab": {
          "base_uri": "https://localhost:8080/"
        },
        "id": "d8IMJznXqFex",
        "outputId": "8b392ad8-1dd6-4d3b-b22c-3bd255b564a0"
      },
      "execution_count": null,
      "outputs": [
        {
          "output_type": "stream",
          "name": "stdout",
          "text": [
            "[ 0.14159292 -0.07079646 -0.07079646]\n",
            "[ 0.00353982 -0.00117994 -0.00117994]\n"
          ]
        }
      ]
    },
    {
      "cell_type": "markdown",
      "source": [
        "Equilbrium wages requires normalization. We normalize the wages so that the world GDP is one."
      ],
      "metadata": {
        "id": "TsTtoAz5qPyC"
      }
    },
    {
      "cell_type": "code",
      "source": [
        "# np.sum sums all the elements in the vector.\n",
        "wgdp = np.sum(w_new * L_S)\n",
        "print(wgdp)\n",
        "# Divide the wages with the world GDP so that the world GDP will be one.\n",
        "w_new = w_new / wgdp\n",
        "print (np.sum(w_new * L_S))\n"
      ],
      "metadata": {
        "colab": {
          "base_uri": "https://localhost:8080/"
        },
        "id": "Jiz2aVTgqj-k",
        "outputId": "3abadf40-1f85-435c-bb3f-0e537f96b007"
      },
      "execution_count": null,
      "outputs": [
        {
          "output_type": "stream",
          "name": "stdout",
          "text": [
            "1.0\n",
            "1.0\n"
          ]
        }
      ]
    },
    {
      "cell_type": "markdown",
      "source": [
        "# Function to calculate excess labor demand\n",
        "\n",
        "To summarize the flow up to now:\n",
        "1. Set the parameters\n",
        "2. Calculate the import share and trade volume based on the assumed wages\n",
        "3. Use the trade volume to calculate the excess demand for labor and update the tentatively placed wages.\n",
        "\n",
        "We will summarize steps 2 to 3 into a **function**.\n"
      ],
      "metadata": {
        "id": "msJAEo7-q2i_"
      }
    },
    {
      "cell_type": "code",
      "source": [
        "def updatewage(w, theta, sigma, N, L_S, T, d, psi):\n",
        "    \"\"\"\n",
        "    Updates wages based on parameters and variables.\n",
        "    This function calculates new wage values based on input parameters and variables.\n",
        "\n",
        "    Parameters:\n",
        "    w (np.ndarray): Array of current wage rates for different countries.\n",
        "    theta (float): Trade elasticity.\n",
        "    sigma (float): Elasticity of substitution between goods.\n",
        "    N (int): Number of countries.\n",
        "    L_S (np.ndarray): Labor supply for each country.\n",
        "    T (np.ndarray): Technology level for each country.\n",
        "    d (np.ndarray): Trade costs between countries.\n",
        "    psi (float): Wage adjustment parameter.\n",
        "\n",
        "    Returns:\n",
        "    w_new (np.ndarray): Updated wages for countries.\n",
        "    Z (np.ndarray): Excess labor demand for each country.\n",
        "    P (np.ndarray): Price index.\n",
        "    X (np.ndarray): Trade flows between countries.\n",
        "    \"\"\"\n",
        "\n",
        "    Xn = w * L_S\n",
        "\n",
        "    ## Calculation of import share\n",
        "    pi = np.zeros((N, N))  # Import share (the share of country i's goods in the total absorption of country n)\n",
        "    pi_num = np.zeros((N, N))  # Numerator part of import share\n",
        "    Phi = np.zeros((N))  # Denominator part of import share\n",
        "\n",
        "    for OR, DE in np.ndindex((N, N)):\n",
        "        pi_num[OR, DE] = T[OR] * (w[OR] * d[OR, DE]) ** (-theta)\n",
        "        Phi[DE] += pi_num[OR, DE]\n",
        "\n",
        "    for OR, DE in np.ndindex((N, N)):\n",
        "        pi[OR, DE] = pi_num[OR, DE] / Phi[DE]\n",
        "\n",
        "    # Calculation of price index\n",
        "    P = gamma((theta + sigma - 1) / theta) ** (1 / (1 - sigma)) * Phi ** (-1 / theta)\n",
        "\n",
        "    # Calculation of import value\n",
        "    X = np.zeros((N, N))\n",
        "    for OR, DE in np.ndindex((N, N)):\n",
        "        X[OR, DE] = pi[OR, DE] * Xn[DE]\n",
        "\n",
        "    # Calculation of excess labor demand\n",
        "    L_D = np.zeros((N))\n",
        "    for OR, DE in np.ndindex((N, N)):\n",
        "        L_D[OR] += X[OR, DE] / w[OR]\n",
        "\n",
        "    Z = L_D - L_S\n",
        "\n",
        "    # Update and normalize wages\n",
        "    w_new = w * (1 + psi * (Z / L_S))\n",
        "    wgdp = np.sum(w_new * L_S)\n",
        "    w_new = w_new / wgdp\n",
        "\n",
        "    return w_new, Z, P, X"
      ],
      "metadata": {
        "id": "jg-qpBE-rTGN"
      },
      "execution_count": null,
      "outputs": []
    },
    {
      "cell_type": "markdown",
      "source": [
        "Confirm if the result from the fuction coincides with te result without the function."
      ],
      "metadata": {
        "id": "6d339SxLsllg"
      }
    },
    {
      "cell_type": "code",
      "source": [
        "w_newfunc,_,_,_ = updatewage(w,theta=theta,sigma=sigma,N=N,L_S=L_S,T=T,d=d,psi=psi)\n",
        "print(w_newfunc)\n",
        "print(w_new)"
      ],
      "metadata": {
        "colab": {
          "base_uri": "https://localhost:8080/"
        },
        "id": "hZ5Noj83s2Jl",
        "outputId": "8a669432-e7da-41fc-d323-e7b9dde51adb"
      },
      "execution_count": null,
      "outputs": [
        {
          "output_type": "stream",
          "name": "stdout",
          "text": [
            "[0.25353982 0.24882006 0.24882006]\n",
            "[0.25353982 0.24882006 0.24882006]\n"
          ]
        }
      ]
    },
    {
      "cell_type": "markdown",
      "source": [
        "# Introducing While-loop\n",
        "\n",
        "Here, we  write code using a while loop to keep updating wages until the excess demand becomes sufficiently small. We define the threshold 'tol' here. A while loop is a loop that performs repeated calculations until a certain condition is met (while). In this case:\n",
        "\n",
        "1. Calculate the excess labor demand using the tentatively placed wages\n",
        "2. Update wages based on the excess labor demand\n",
        "3. If the excess labor demand is greater than 'tol', go back to step 1\n",
        "4. If the excess labor demand is smaller than 'tol', calculate the equilibrium outcomes of the economy and output them"
      ],
      "metadata": {
        "id": "5epOEHyOs12O"
      }
    },
    {
      "cell_type": "code",
      "source": [
        "tol = 0.0001\n",
        "iter = 1\n",
        "\n",
        "# Set the initial values for the excess labor demand function and wages\n",
        "Z = np.ones((N))\n",
        "w = np.ones((N))\n",
        "\n",
        "# If the excess labor demand is greater than tol, return here\n",
        "while max(np.abs(Z)) > tol:\n",
        "    iter += 1\n",
        "    w_old = np.copy(w)\n",
        "    w, Z, P, X = updatewage(w, theta=4, sigma=3, N=3, L_S=L_S, T=T, d=d, psi=0.1)\n",
        "\n",
        "    # Display the number of iterations, excess labor demand, and wages every 10 iterations\n",
        "    if iter % 10 == 0:\n",
        "        print(iter)\n",
        "        print(Z)\n",
        "        print(w)\n",
        "\n",
        "# When convergence is achieved, display the number of iterations required, the excess demand, and the wages\n",
        "if max(np.abs(Z)) < tol:\n",
        "    print(\"DONE!\")\n",
        "    print(iter)\n",
        "    print(Z)\n",
        "    print(w)"
      ],
      "metadata": {
        "colab": {
          "base_uri": "https://localhost:8080/"
        },
        "id": "KYG-ECJQCSA9",
        "outputId": "1a3c2c8a-b79c-4ac7-e865-e575bfddab71"
      },
      "execution_count": null,
      "outputs": [
        {
          "output_type": "stream",
          "name": "stdout",
          "text": [
            "10\n",
            "[ 0.00559218 -0.00294981 -0.00294981]\n",
            "[0.26031388 0.24656204 0.24656204]\n",
            "20\n",
            "[ 1.13421104e-04 -5.99655974e-05 -5.99655974e-05]\n",
            "[0.26061275 0.24646242 0.24646242]\n",
            "DONE!\n",
            "21\n",
            "[ 7.68427249e-05 -4.06272769e-05 -4.06272769e-05]\n",
            "[0.26061475 0.24646175 0.24646175]\n"
          ]
        }
      ]
    },
    {
      "cell_type": "markdown",
      "source": [
        "Calculate the welfare:\n",
        "$$ U_n = \\frac{w_n}{P_n}. $$"
      ],
      "metadata": {
        "id": "lSZXD3uWCRgn"
      }
    },
    {
      "cell_type": "code",
      "source": [
        "U = w / P\n",
        "print(U)"
      ],
      "metadata": {
        "colab": {
          "base_uri": "https://localhost:8080/"
        },
        "id": "LgB7PhI7IZdW",
        "outputId": "3ed4149c-2620-4079-f937-3bc0e8f4833e"
      },
      "execution_count": null,
      "outputs": [
        {
          "output_type": "stream",
          "name": "stdout",
          "text": [
            "[1.04077455 1.0157775  1.0157775 ]\n"
          ]
        }
      ]
    }
  ]
}