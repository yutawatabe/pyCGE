<document_content>{
"nbformat": 4,
"nbformat_minor": 0,
"metadata": {
"colab": {
"provenance": [],
"authorship_tag": "ABX9TyMK1UPTz+xc9W95k1e1zPL9",
"include_colab_link": true
},
"kernelspec": {
"name": "python3",
"display_name": "Python 3"
},
"language_info": {
"name": "python"
}
},
"cells": [
{
"cell_type": "markdown",
"metadata": {
"id": "view-in-github",
"colab_type": "text"
},
"source": [
"<a href="https://colab.research.google.com/github/yutawatabe/pyCGE/blob/main/EK_Exacthatalgebra.ipynb" target="_parent"><img src="https://colab.research.google.com/assets/colab-badge.svg" alt="Open In Colab"/></a>"
]
},
{
"cell_type": "markdown",
"source": [
"## Counterfactual Calculations"
],
"metadata": {
"id": "cVw2TtQXNiH2"
}
},
{
"cell_type": "code",
"execution_count": null,
"metadata": {
"id": "RV7VaLC9NYiq"
},
"outputs": [],
"source": [
"# Import numpy and math\n",
"import numpy as np # matrix calculation library\n",
"from math import gamma # for price index"
]
},
{
"cell_type": "markdown",
"source": [
"# Approach to change parameters and re-solve\n",
"\n",
"Simulate parameters and calculate the equilibrium of the Eaton Kortum model. We reintroduce a function to update wages to calculate the equilibrium, and finally make it a function to find the equilibrium wages and trade amounts."
],
"metadata": {
"id": "q_RmTRuWOTNe"
}
},
{
"cell_type": "code",
"source": [
"def updatewage(w, theta, sigma, N, L_S, T, d, psi):\n",
"  """\n",
"    Update wages based on parameters and economic variables.\n",
"\n",
"    This function calculates new wage values based on input parameters and economic variables.\n",
"\n",
"  Parameters:\n",
"      w (np.ndarray): Array of current wage rates for different countries.\n",
"      theta (float): Elasticity of trade.\n",
"      sigma (float): Elasticity of substitution for goods.\n",
"      N (int): Number of countries.\n",
"      L_S (np.ndarray): Labor supply for each country.\n",
"      T (np.ndarray): Technology level for each country.\n",
"      d (np.ndarray): Trade costs between countries.\n",
"      psi (float): Wage adjustment parameter.\n",
"\n",
"  Return values:\n",
"      w_new (np.ndarray): Updated wages for countries.\n",
"      Z (np.ndarray): Excess labor demand for each country\n",
"      P (np.ndarray): Price index.\n",
"      X (np.ndarray): Trade flows between countries.\n",
"  """\n",
"  Xn = w * L\n",
"\n",
"  ## Calculate import shares\n",
"  pi = np.zeros((N,N)) # Import shares (what fraction of country n's total consumption is from country i's goods). Here, exporting country is the first dimension, importing country is the next dimension\n",
"  pi_num = np.zeros((N,N)) # Numerator part of import shares\n",
"  Phi = np.zeros((N)) # Denominator part of import shares\n",
"  for OR,DE in np.ndindex((N,N)):\n",
"    pi_num[OR,DE] = T[OR] * (w[OR] * d[OR,DE]) ** (-theta)\n",
"    Phi[DE] += pi_num[OR,DE] # Phi[DE] = pi_den[DE] + pi_num[OR,DE]\n",
"  for OR,DE in np.ndindex((N,N)):\n",
"    pi[OR,DE] = pi_num[OR,DE] / Phi[DE]\n",
"\n",
"  # Calculate price index\n",
"  P = gamma((theta + sigma - 1) / theta) **(1/(1-sigma)) * Phi ** (-1/theta)\n",
"\n",
"  # Calculate import amounts\n",
"  X = np.zeros((N,N))\n",
"  for OR,DE in np.ndindex((N,N)):\n",
"    X[OR,DE] = pi[OR,DE] * Xn[DE]\n",
"\n",
"  ## Calculate excess labor demand\n",
"  L_S = L\n",
"  L_D = np.zeros((N))\n",
"  for OR,DE in np.ndindex((N,N)):\n",
"    L_D[OR] += X[OR,DE] / w[OR] # L_D[OR] = L_D[OR] + X[OR,DE] / w[OR]\n",
"  Z = L_D - L_S\n",
"\n",
"  # Update wages and normalize\n",
"  w_new = w * (1 + psi * (Z / L) )\n",
"  wgdp = np.sum(w_new * L)\n",
"  w_new = w_new / wgdp\n",
"\n",
"  return w_new, Z, X, P\n",
"\n",
"def solve_eqm(theta, sigma, N, L, T, d, psi, tol, maxiter):\n",
"\n",
"  # Initialize wages and excess labor demand\n",
"  Z = np.ones((N))\n",
"  w = np.ones((N))\n",
"\n",
"  iter = 1\n",
"  # Exit the loop if excess labor demand is sufficiently small\n",
"  while max(np.abs(Z)) > tol and iter < maxiter:\n",
"    iter += 1\n",
"    w_old = np.copy(w)\n",
"    w, Z, _, _ = updatewage(w, theta=4, sigma=3, N=3, L_S=L, T=T, d=d, psi=0.1)\n",
"    if iter % 10 == 0:\n",
"      print(iter)\n",
"      #print(Z)\n",
"      #print(w)\n",
"\n",
"  if iter == maxiter:\n",
"    print("Not done")\n",
"    return w, Z, P, X\n",
"  else:\n",
"    w, Z, X, P = updatewage(w, theta=4, sigma=3, N=3, L_S=L, T=T, d=d, psi=0.1)\n",
"    return w, Z, P, X\n"
],
"metadata": {
"id": "UpQJq_Z5OW0q"
},
"execution_count": null,
"outputs": []
},
{
"cell_type": "markdown",
"source": [
"## End of Notebook"
],
"metadata": {
"id": "end_of_notebook"
}
}
]
}</document_content>
