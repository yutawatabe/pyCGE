{
  "nbformat": 4,
  "nbformat_minor": 0,
  "metadata": {
    "colab": {
      "provenance": [],
      "authorship_tag": "ABX9TyMK1UPTz+xc9W95k1e1zPL9",
      "include_colab_link": true
    },
    "kernelspec": {
      "name": "python3",
      "display_name": "Python 3"
    },
    "language_info": {
      "name": "python"
    }
  },
  "cells": [
    {
      "cell_type": "markdown",
      "metadata": {
        "id": "view-in-github",
        "colab_type": "text"
      },
      "source": [
        "<a href=\"https://colab.research.google.com/github/yutawatabe/pyCGE/blob/main/EK_Exacthatalgebra.ipynb\" target=\"_parent\"><img src=\"https://colab.research.google.com/assets/colab-badge.svg\" alt=\"Open In Colab\"/></a>"
      ]
    },
    {
      "cell_type": "markdown",
      "source": [
        "## 反実仮想の計算"
      ],
      "metadata": {
        "id": "cVw2TtQXNiH2"
      }
    },
    {
      "cell_type": "code",
      "execution_count": null,
      "metadata": {
        "id": "RV7VaLC9NYiq"
      },
      "outputs": [],
      "source": [
        "# numpy, mathをインポート\n",
        "import numpy as np # 行列計算のライブラリ\n",
        "from math import gamma # 価格指数のため"
      ]
    },
    {
      "cell_type": "markdown",
      "source": [
        "#パラメーターを変更して解きなおすアプローチ\n",
        "\n",
        "パラメーターをシミュレートして、Eaton Kortumモデルの均衡を計算します。均衡を計算するために賃金を更新する関数を再び導入し、最終的に均衡の賃金、貿易額を求めるところまで関数化します。"
      ],
      "metadata": {
        "id": "q_RmTRuWOTNe"
      }
    },
    {
      "cell_type": "code",
      "source": [
        "def updatewage(w,theta,sigma,N,L_S,T,ｄ,psi):\n",
        "  \"\"\"\n",
        "    パラメータと経済変数に基づいて賃金を更新します。\n",
        "\n",
        "    この関数は、入力パラメータと経済変数に基づいて新しい賃金値を計算します。\n",
        "\n",
        "  パラメータ:\n",
        "      w (np.ndarray): 異なる国の現在の賃金率の配列。\n",
        "      theta (float): 貿易の弾力性。\n",
        "      sigma (float): 財の代替の弾力性。\n",
        "      N (int): 国の数。\n",
        "      L_S (np.ndarray): 各国の労働供給。\n",
        "      T (np.ndarray): 各国の技術水準。\n",
        "      d (np.ndarray): 国々間の貿易コスト。\n",
        "      psi (float): 賃金調整パラメータ。\n",
        "\n",
        "  戻り値:\n",
        "      w_new (np.ndarray): 更新された国の賃金。\n",
        "      Z (np.ndarray): 各国の超過労働需要\n",
        "      P (np.ndarray): 価格指数。\n",
        "      X (np.ndarray): 国々間の貿易フロー。\n",
        "  \"\"\"\n",
        "  Xn = w * L\n",
        "\n",
        "  ## 輸入シェアの計算\n",
        "  pi = np.zeros((N,N)) # 輸入シェア（n国の総消費のうち、i国の財が何割を占めるか）。ここでは輸出国が最初の次元、輸出国が次の次元\n",
        "  pi_num = np.zeros((N,N)) # 輸入シェアの分子部分\n",
        "  Phi = np.zeros((N)) # 輸入シェアの分母部分\n",
        "  for OR,DE in np.ndindex((N,N)):\n",
        "    pi_num[OR,DE] = T[OR] * (w[OR] * ｄ[OR,DE]) ** (-theta)\n",
        "    Phi[DE] += pi_num[OR,DE] # Phi[DE] = pi_den[DE] + pi_num[OR,DE]\n",
        "  for OR,DE in np.ndindex((N,N)):\n",
        "    pi[OR,DE] = pi_num[OR,DE] / Phi[DE]\n",
        "\n",
        "  # 価格指数の計算\n",
        "  P = gamma((theta + sigma - 1) / theta) **(1/(1-sigma)) * Phi ** (-1/theta)\n",
        "\n",
        "  # 輸入額の計算\n",
        "  X = np.zeros((N,N))\n",
        "  for OR,DE in np.ndindex((N,N)):\n",
        "    X[OR,DE] = pi[OR,DE] * Xn[DE]\n",
        "\n",
        "  ## 労働超過需要の計算\n",
        "  L_S = L\n",
        "  L_D = np.zeros((N))\n",
        "  for OR,DE in np.ndindex((N,N)):\n",
        "    L_D[OR] += X[OR,DE] / w[OR] # L_D[OR] = L_D[OR] + X[OR,DE] / w[OR]\n",
        "  Z = L_D - L_S\n",
        "\n",
        "  # 賃金更新と基準化\n",
        "  w_new = w * (1 + psi * (Z / L) )\n",
        "  wgdp = np.sum(w_new * L)\n",
        "  w_new = w_new / wgdp\n",
        "\n",
        "  return w_new,Z,X,P\n",
        "\n",
        "def solve_eqm(theta,sigma,N,L,T,d,psi,tol,maxiter):\n",
        "\n",
        "  # 賃金と労働超過需要の初期化\n",
        "  Z = np.ones((N))\n",
        "  w = np.ones((N))\n",
        "\n",
        "  iter = 1\n",
        "  # 労働超過需要が十分に小さければLoopから抜け出す\n",
        "  while max(np.abs(Z)) > tol and iter < maxiter:\n",
        "    iter += 1\n",
        "    w_old = np.copy(w)\n",
        "    w,Z,_,_ = updatewage(w,theta=4,sigma=3,N=3,L_S=L,T=T,d=d,psi=0.1)\n",
        "    if iter % 10 == 0:\n",
        "      print(iter)\n",
        "      #print(Z)\n",
        "      #print(w)\n",
        "\n",
        "  if iter == maxiter:\n",
        "    print(\"Not done\")\n",
        "    return w,Z,P,X\n",
        "  else:\n",
        "    w,Z,X,P = updatewage(w,theta=4,sigma=3,N=3,L_S=L,T=T,d=d,psi=0.1)\n",
        "    return w,Z,P,X\n"
      ],
      "metadata": {
        "id": "UpQJq_Z5OW0q"
      },
      "execution_count": null,
      "outputs": []
    },

    {
      "cell_type": "markdown",
      "source": [
        "## End of Notebook"
      ],
      "metadata": {
        "id": "end_of_notebook"
      }
    }
  ]
}
