{
  "nbformat": 4,
  "nbformat_minor": 0,
  "metadata": {
    "colab": {
      "provenance": [],
      "authorship_tag": "ABX9TyM/oj5RJn71+4ey8fIdN/1u",
      "include_colab_link": true
    },
    "kernelspec": {
      "name": "python3",
      "display_name": "Python 3"
    },
    "language_info": {
      "name": "python"
    }
  },
  "cells": [
    {
      "cell_type": "markdown",
      "metadata": {
        "id": "view-in-github",
        "colab_type": "text"
      },
      "source": [
        "<a href=\"https://colab.research.google.com/github/yutawatabe/pyCGE/blob/main/EK_Exacthatalgebra_ENG.ipynb\" target=\"_parent\"><img src=\"https://colab.research.google.com/assets/colab-badge.svg\" alt=\"Open In Colab\"/></a>"
      ]
    },
    {
      "cell_type": "markdown",
      "source": [
        "## Calculate Counterfactual Equilibrim"
      ],
      "metadata": {
        "id": "cVw2TtQXNiH2"
      }
    },
    {
      "cell_type": "code",
      "execution_count": 1,
      "metadata": {
        "id": "RV7VaLC9NYiq"
      },
      "outputs": [],
      "source": [
        "# Import numpy and math\n",
        "import numpy as np # numpy for matrix calcualtion\n",
        "from math import gamma # math.gamma for gamma function calculation"
      ]
    },
    {
      "cell_type": "markdown",
      "source": [
        "# Start by resolving the equilbrium with different parameters.\n",
        "\n",
        "Simulate parameters and calculate the EK equilibrium."
      ],
      "metadata": {
        "id": "q_RmTRuWOTNe"
      }
    },
    {
      "cell_type": "code",
      "source": [
        "def updatewage(w, theta, sigma, N, L_S, T, d, psi):\n",
        "    \"\"\"\n",
        "    Update wages based on parameters and economic variables.\n",
        "    This function calculates new wage values based on input parameters and economic variables.\n",
        "\n",
        "    Parameters:\n",
        "    w (np.ndarray): Array of current wage rates for different countries.\n",
        "    theta (float): Elasticity of trade.\n",
        "    sigma (float): Elasticity of substitution for goods.\n",
        "    N (int): Number of countries.\n",
        "    L_S (np.ndarray): Labor supply for each country.\n",
        "    T (np.ndarray): Technology level for each country.\n",
        "    d (np.ndarray): Trade costs between countries.\n",
        "    psi (float): Wage adjustment parameter.\n",
        "\n",
        "    Returns:\n",
        "    w_new (np.ndarray): Updated wages for countries.\n",
        "    Z (np.ndarray): Excess labor demand for each country.\n",
        "    P (np.ndarray): Price indices.\n",
        "    X (np.ndarray): Trade flows between countries.\n",
        "    \"\"\"\n",
        "\n",
        "    Xn = w * L\n",
        "\n",
        "    ## Calculation of import shares\n",
        "    pi = np.zeros((N, N))  # Import shares (what proportion of total consumption in country n is accounted for by goods from country i).\n",
        "                           # Here, the exporting country is the first dimension, and the exporting country is the next dimension.\n",
        "    pi_num = np.zeros((N, N))  # Numerator part of import shares\n",
        "    Phi = np.zeros((N))  # Denominator part of import shares\n",
        "\n",
        "    for OR, DE in np.ndindex((N, N)):\n",
        "        pi_num[OR, DE] = T[OR] * (w[OR] * d[OR, DE]) ** (-theta)\n",
        "        Phi[DE] += pi_num[OR, DE]\n",
        "\n",
        "    for OR, DE in np.ndindex((N, N)):\n",
        "        pi[OR, DE] = pi_num[OR, DE] / Phi[DE]\n",
        "\n",
        "    # Calculation of price indices\n",
        "    P = gamma((theta + sigma - 1) / theta) ** (1 / (1 - sigma)) * Phi ** (-1 / theta)\n",
        "\n",
        "    # Calculation of import values\n",
        "    X = np.zeros((N, N))\n",
        "    for OR, DE in np.ndindex((N, N)):\n",
        "        X[OR, DE] = pi[OR, DE] * Xn[DE]\n",
        "\n",
        "    ## Calculation of excess labor demand\n",
        "    L_S = L\n",
        "    L_D = np.zeros((N))\n",
        "    for OR, DE in np.ndindex((N, N)):\n",
        "        L_D[OR] += X[OR, DE] / w[OR]\n",
        "\n",
        "    Z = L_D - L_S\n",
        "\n",
        "    # Wage update and normalization\n",
        "    w_new = w * (1 + psi * (Z / L))\n",
        "    wgdp = np.sum(w_new * L)\n",
        "    w_new = w_new / wgdp\n",
        "\n",
        "    return w_new, Z, X, P\n",
        "\n",
        "def solve_eqm(theta, sigma, N, L, T, d, psi, tol, maxiter):\n",
        "    # Initialization of wages and excess labor demand\n",
        "    Z = np.ones((N))\n",
        "    w = np.ones((N))\n",
        "    iter = 1\n",
        "\n",
        "    # Exit the loop if excess labor demand is sufficiently small\n",
        "    while max(np.abs(Z)) > tol and iter < maxiter:\n",
        "        iter += 1\n",
        "        w_old = np.copy(w)\n",
        "        w, Z, _, _ = updatewage(w, theta=4, sigma=3, N=3, L_S=L, T=T, d=d, psi=0.1)\n",
        "        if iter % 10 == 0:\n",
        "            print(iter)\n",
        "\n",
        "    if iter == maxiter:\n",
        "        print(\"Not done\")\n",
        "        return w, Z, P, X\n",
        "    else:\n",
        "        w, Z, X, P = updatewage(w, theta=4, sigma=3, N=3, L_S=L, T=T, d=d, psi=0.1)\n",
        "        return w, Z, P, X\n"
      ],
      "metadata": {
        "id": "UpQJq_Z5OW0q"
      },
      "execution_count": 5,
      "outputs": []
    },
    {
      "cell_type": "markdown",
      "source": [
        "Using this function, we calculate the equilibrium from the parameters."
      ],
      "metadata": {
        "id": "fbqQO5qCOXs7"
      }
    },
    {
      "cell_type": "code",
      "source": [
        "N = 3  # Number of countries\n",
        "theta = 4  # Parameter for trade elasticity\n",
        "sigma = 3  # Parameter for elasticity of substitution\n",
        "T = np.array([1., 1., 1.])  # Parameter for technology\n",
        "L = np.array([1, 1.5, 1.5])  # Population\n",
        "d = np.ones((N, N)) * 1.5  # Trade costs\n",
        "for OR in np.ndindex((N)):\n",
        "    d[OR, OR] = 1  # Domestic trade costs are set to 1\n",
        "# Solve for equilibrium\n",
        "w, _, P, X = solve_eqm(theta, sigma, N, L, T, d, psi=0.1, tol=0.00001, maxiter=1000)\n",
        "print(w)\n"
      ],
      "metadata": {
        "colab": {
          "base_uri": "https://localhost:8080/"
        },
        "id": "oGOuj15EO4x2",
        "outputId": "419ce842-1808-4791-8050-891c1ac23a5b"
      },
      "execution_count": 6,
      "outputs": [
        {
          "output_type": "stream",
          "name": "stdout",
          "text": [
            "10\n",
            "20\n",
            "[0.26061868 0.24646044 0.24646044]\n"
          ]
        }
      ]
    },
    {
      "cell_type": "markdown",
      "source": [
        "We think this as an initial equlibirum, and calculate counterfactual equilibrim. We first assume parameters are known and resolve the\n",
        "equilibrium under the alternative parameters. We change the trade costs from $\\boldsymbol{\\tau} = 1.5$ to $\\boldsymbol{\\tau}' = 1.2$  (we fix the intranational trade costs)."
      ],
      "metadata": {
        "id": "2S7Ydht6P62F"
      }
    },
    {
      "cell_type": "code",
      "source": [
        "d_new = np.ones((N,N)) * 1.2 # New trade costs.\n",
        "for OR in np.ndindex((N)):\n",
        "  d_new[OR,OR] = 1 # Keep the domestic trade costs to 1.\n",
        "print(d_new)\n",
        "\n",
        "dhat = d_new / d\n",
        "print(dhat)"
      ],
      "metadata": {
        "colab": {
          "base_uri": "https://localhost:8080/"
        },
        "id": "NORRRqz-Pt9j",
        "outputId": "7644f5e2-2677-4fa5-8939-42a2ba182b4a"
      },
      "execution_count": 7,
      "outputs": [
        {
          "output_type": "stream",
          "name": "stdout",
          "text": [
            "[[1.  1.2 1.2]\n",
            " [1.2 1.  1.2]\n",
            " [1.2 1.2 1. ]]\n",
            "[[1.  0.8 0.8]\n",
            " [0.8 1.  0.8]\n",
            " [0.8 0.8 1. ]]\n"
          ]
        }
      ]
    },
    {
      "cell_type": "markdown",
      "source": [
        "When we resolve the equilibrium and compare the real wage (welfare)..."
      ],
      "metadata": {
        "id": "B90vRPRhRzCk"
      }
    },
    {
      "cell_type": "code",
      "source": [
        "w_cf,_,P_cf,X_cf = solve_eqm(theta,sigma,N,L,T,d_new,psi=0.1,tol=0.00001,maxiter=1000)\n",
        "\n",
        "U = w / P\n",
        "U_cf = w_cf / P_cf\n",
        "print(U_cf/U)"
      ],
      "metadata": {
        "colab": {
          "base_uri": "https://localhost:8080/"
        },
        "id": "t1BthhlHRyqN",
        "outputId": "8a49e2dc-a572-46b2-dcd8-5a038e188378"
      },
      "execution_count": 8,
      "outputs": [
        {
          "output_type": "stream",
          "name": "stdout",
          "text": [
            "10\n",
            "[1.10939542 1.08093162 1.08093162]\n"
          ]
        }
      ]
    },
    {
      "cell_type": "markdown",
      "source": [
        "# Introducing Exact Hat Algebra\n",
        "\n",
        "Using Exact Hat Algebra, we confirm the counterfactual equilibrium from trade liberalizations. Specifically, we compare the result of exact hat\n",
        "algebra and the solving approach."
      ],
      "metadata": {
        "id": "HGhyi65dRw6b"
      }
    },
    {
      "cell_type": "markdown",
      "source": [
        "For Exact hat algebra, calculate total absorption and import share."
      ],
      "metadata": {
        "id": "EOa1iOTqSGoL"
      }
    },
    {
      "cell_type": "code",
      "source": [
        "# Calculate total absorption\n",
        "Xn = np.sum(X,axis=0) # np.sum(X,axis=0) means that to sum over X in 1st dimension.\n",
        "\n",
        "# Calculate import share\n",
        "pi = np.zeros((N,N))\n",
        "for OR,DE in np.ndindex((N,N)):\n",
        "  pi[OR,DE] = X[OR,DE] / Xn[DE]\n",
        "print(X)\n",
        "print(Xn)\n",
        "print(pi)"
      ],
      "metadata": {
        "colab": {
          "base_uri": "https://localhost:8080/"
        },
        "id": "asAQcFfBPCtA",
        "outputId": "ab9f3a82-4912-4a50-b482-7df81fbd8351"
      },
      "execution_count": 9,
      "outputs": [
        {
          "output_type": "stream",
          "name": "stdout",
          "text": [
            "[[0.17444744 0.04308621 0.04308621]\n",
            " [0.04308556 0.2727316  0.05387291]\n",
            " [0.04308556 0.05387291 0.2727316 ]]\n",
            "[0.26061855 0.36969072 0.36969072]\n",
            "[[0.66935926 0.11654664 0.11654664]\n",
            " [0.16532037 0.7377291  0.14572427]\n",
            " [0.16532037 0.14572427 0.7377291 ]]\n"
          ]
        }
      ]
    },
    {
      "cell_type": "markdown",
      "source": [
        "Temporaliry set $\\boldsymbol{\\hat{w}} = 1$ and check whether Exact hat algebra equilibrium holds."
      ],
      "metadata": {
        "id": "CrgaFYccXhzU"
      }
    },
    {
      "cell_type": "code",
      "source": [
        "what = np.ones((N))\n",
        "print(what)"
      ],
      "metadata": {
        "colab": {
          "base_uri": "https://localhost:8080/"
        },
        "id": "J6JibPEdMlrw",
        "outputId": "003b1a34-359a-4531-e7d3-1b5e093a2a13"
      },
      "execution_count": 10,
      "outputs": [
        {
          "output_type": "stream",
          "name": "stdout",
          "text": [
            "[1. 1. 1.]\n"
          ]
        }
      ]
    },
    {
      "cell_type": "markdown",
      "source": [
        "Since total absorption changes, we calculate the counterfactual absorptions:\n",
        "$$ X_{i}' = \\hat{w}_{i} X_{i}. $$"
      ],
      "metadata": {
        "id": "kBLoaBVoSP3_"
      }
    },
    {
      "cell_type": "code",
      "source": [
        "Xn1 = what * Xn\n",
        "print(Xn1)"
      ],
      "metadata": {
        "colab": {
          "base_uri": "https://localhost:8080/"
        },
        "id": "0ykl6MqOSdub",
        "outputId": "61412f9e-bcc6-405e-f787-1624e2713b79"
      },
      "execution_count": 11,
      "outputs": [
        {
          "output_type": "stream",
          "name": "stdout",
          "text": [
            "[0.26061855 0.36969072 0.36969072]\n"
          ]
        }
      ]
    },
    {
      "cell_type": "markdown",
      "source": [
        "Calculate $\\boldsymbol{\\hat{\\pi}}$ from  $\\boldsymbol{\\hat{w}}$:\n",
        "$$ \\hat{\\pi}_{ni} = \\frac{(\\hat{w}_i \\hat{d}_{ni})^{-\\theta}}{ \\sum_{k=1}^N \\pi_{nk} (\\hat{w}_k \\hat{d}_{nk})^{-\\theta} }. $$\n",
        "Calculate price index changes:\n",
        "$$ \\hat{P}_n = \\left( \\sum_{k=1}^N \\pi_{nk} (\\hat{w}_k \\hat{d}_{nk})^{-\\theta} \\right)^{-1/\\theta}. $$"
      ],
      "metadata": {
        "id": "hFBJBMk3MDfL"
      }
    },
    {
      "cell_type": "code",
      "source": [
        "pihat = np.zeros((N,N))\n",
        "pihat_num = np.zeros((N,N))\n",
        "pihat_den = np.zeros((N))\n",
        "\n",
        "for OR,DE in np.ndindex((N,N)):\n",
        "  pihat_num[OR,DE] = (what[OR] * dhat[OR,DE] )**(-theta)\n",
        "  pihat_den[DE] += pi[OR,DE] * pihat_num[OR,DE] # pihat_den[DE] = pihat_den[DE] + pihat_num[OR,DE]\n",
        "\n",
        "for OR,DE in np.ndindex((N,N)):\n",
        "  pihat[OR,DE] = pihat_num[OR,DE] / pihat_den[DE]\n",
        "\n",
        "Phat = pihat_den ** (-1/theta)\n",
        "\n",
        "# Confirm that the new import share sums up to one.\n",
        "print(pihat)\n",
        "print(pihat * pi)\n",
        "print(np.sum(pihat*pi,axis=0))"
      ],
      "metadata": {
        "colab": {
          "base_uri": "https://localhost:8080/"
        },
        "id": "DePy2TZuOBGg",
        "outputId": "bccc9fee-1559-4e54-c4de-babae67d958d"
      },
      "execution_count": 12,
      "outputs": [
        {
          "output_type": "stream",
          "name": "stdout",
          "text": [
            "[[0.67723715 1.77165261 1.77165261]\n",
            " [1.65341102 0.72566891 1.77165261]\n",
            " [1.65341102 1.77165261 0.72566891]]\n",
            "[[0.45331496 0.20648016 0.20648016]\n",
            " [0.27334252 0.53534707 0.25817278]\n",
            " [0.27334252 0.25817278 0.53534707]]\n",
            "[1. 1. 1.]\n"
          ]
        }
      ]
    },
    {
      "cell_type": "markdown",
      "source": [
        "Calculate new export values.\n",
        "$$ X'_{ni} = \\pi_{ni} \\hat{\\pi}_{ni} X'_{i} $$"
      ],
      "metadata": {
        "id": "SAjEwi-XIW-_"
      }
    },
    {
      "cell_type": "code",
      "source": [
        "X1 = np.zeros((N,N))\n",
        "for OR,DE in np.ndindex((N,N)):\n",
        "  X1[OR,DE] = pi[OR,DE] * pihat[OR,DE] * Xn1[DE]\n"
      ],
      "metadata": {
        "id": "N43FhqI-IkGT"
      },
      "execution_count": 13,
      "outputs": []
    },
    {
      "cell_type": "markdown",
      "source": [
        "Under this temporal wages, $\\hat{\\boldsymbol{w}}$, confirm is the labor maket is cleared. The labor market clearing implies:\n",
        "\n",
        "$$  L^S_{i} = \\frac{\\sum_{n=1}^N X_{ni}'}{w'_i}. $$\n",
        "\n",
        "Mulitplying both sides with $w_i'$ and express everything in hat yields:\n",
        "$$ \\hat{w}_i w_i L_{i} = \\sum_{n=1}^N X_{ni}' $$\n",
        "We calcula the differences between labor supply and labor demand as excess labor demand."
      ],
      "metadata": {
        "id": "z-7GaCzcTkRh"
      }
    },
    {
      "cell_type": "code",
      "source": [
        "wL_D = np.zeros((N))\n",
        "wL_S = what * Xn\n",
        "\n",
        "for OR,DE in np.ndindex((N,N)):\n",
        "  wL_D[OR] += X1[OR,DE]\n",
        "\n",
        "Z = (wL_D - wL_S) / what\n",
        "print(Z)"
      ],
      "metadata": {
        "colab": {
          "base_uri": "https://localhost:8080/"
        },
        "id": "87AOoX6ARB7H",
        "outputId": "b4ed5de8-60e1-43ee-df72-833389e53c66"
      },
      "execution_count": 14,
      "outputs": [
        {
          "output_type": "stream",
          "name": "stdout",
          "text": [
            "[ 0.01019133 -0.00509567 -0.00509567]\n"
          ]
        }
      ]
    },
    {
      "cell_type": "markdown",
      "source": [
        "Update the $\\boldsymbol{\\hat{w}}$ from the excess labor demand:\n",
        "$$ \\hat{w}_{new,i} = \\hat{w}_i * \\left(1 + \\psi * \\frac{Z_i}{X'_{i}}\\right). $$"
      ],
      "metadata": {
        "id": "koRuDn26_BKH"
      }
    },
    {
      "cell_type": "code",
      "source": [
        "psi = 0.1 # The parameter governs the convergence speed.\n",
        "\n",
        "what_new = what * (1 + psi * (Z / Xn1) )"
      ],
      "metadata": {
        "id": "H-6FsNVS_KaG"
      },
      "execution_count": 15,
      "outputs": []
    },
    {
      "cell_type": "markdown",
      "source": [
        "Compare the new $\\boldsymbol{\\hat{w}}$ and the old $\\boldsymbol{\\hat{w}}$. The wage changes should be higher if there is an excess labor demand."
      ],
      "metadata": {
        "id": "Fps2FGRcA2fV"
      }
    },
    {
      "cell_type": "code",
      "source": [
        "print(Z)\n",
        "print(what_new - what)"
      ],
      "metadata": {
        "colab": {
          "base_uri": "https://localhost:8080/"
        },
        "id": "Ro-mFZmTA2Mo",
        "outputId": "d3659887-0984-479b-e1a0-5d545c7bd128"
      },
      "execution_count": 16,
      "outputs": [
        {
          "output_type": "stream",
          "name": "stdout",
          "text": [
            "[ 0.01019133 -0.00509567 -0.00509567]\n",
            "[ 0.00391044 -0.00137836 -0.00137836]\n"
          ]
        }
      ]
    },
    {
      "cell_type": "markdown",
      "source": [
        "The changes in equlibrium wages need normalization. We normalizes so that the equilbirium global GDP is constant."
      ],
      "metadata": {
        "id": "IrAT4JoZA_Jx"
      }
    },
    {
      "cell_type": "code",
      "source": [
        "wgdp1 = np.sum(what_new * Xn1)\n",
        "wgdp = np.sum(Xn)\n",
        "print(wgdp1)\n",
        "what_new = what_new / wgdp1 * wgdp\n",
        "print(what_new)"
      ],
      "metadata": {
        "colab": {
          "base_uri": "https://localhost:8080/"
        },
        "id": "jgrAtCA_BGtZ",
        "outputId": "05bc688c-e874-499a-80c7-cf3c54a9d790"
      },
      "execution_count": 17,
      "outputs": [
        {
          "output_type": "stream",
          "name": "stdout",
          "text": [
            "1.0\n",
            "[1.00391044 0.99862164 0.99862164]\n"
          ]
        }
      ]
    },
    {
      "cell_type": "markdown",
      "source": [
        "# Functionalize Exact Hat Algebra\n",
        "\n",
        "So far, the flow can be summarized as follows:\n",
        "1. Set the parameters\n",
        "2. Based on the assumed wage changes, calculate the changes in import shares and trade values\n",
        "3. Using the new trade values, check the equilibrium of the labor market\n",
        "4. Update the assumed wage changes using the excess labor demand\n",
        "\n",
        "We will summarize steps 2 to 4 into a **function**."
      ],
      "metadata": {
        "id": "IBZMdBi3Fvvt"
      }
    },
    {
      "cell_type": "code",
      "source": [
        "def updatewagehat(what, dhat, theta, N, X, psi):\n",
        "    # Calculate total demand\n",
        "    Xn = np.sum(X, axis=0)\n",
        "    Xn1 = what * Xn\n",
        "\n",
        "    # Calculate import shares\n",
        "    for OR, DE in np.ndindex((N, N)):\n",
        "        pi[OR, DE] = X[OR, DE] / Xn[DE]\n",
        "\n",
        "    # Calculate changes in import shares\n",
        "    pihat = np.zeros((N, N))\n",
        "    pihat_num = np.zeros((N, N))\n",
        "    pihat_den = np.zeros((N))\n",
        "\n",
        "    for OR, DE in np.ndindex((N, N)):\n",
        "        pihat_num[OR, DE] = (what[OR] * dhat[OR, DE]) ** (-theta)\n",
        "        pihat_den[DE] += pi[OR, DE] * pihat_num[OR, DE]\n",
        "\n",
        "    for OR, DE in np.ndindex((N, N)):\n",
        "        pihat[OR, DE] = pihat_num[OR, DE] / pihat_den[DE]\n",
        "\n",
        "    # Calculate changes in price indices\n",
        "    Phat = pihat_den ** (-1 / theta)\n",
        "\n",
        "    # Calculate new trade values\n",
        "    X1 = np.zeros((N, N))\n",
        "    for OR, DE in np.ndindex((N, N)):\n",
        "        X1[OR, DE] = pi[OR, DE] * pihat[OR, DE] * Xn1[DE]\n",
        "\n",
        "    # Calculate labor market equilibrium in the new equilibrium\n",
        "    wL_D = np.zeros((N))\n",
        "    wL_S = what * Xn\n",
        "\n",
        "    for OR, DE in np.ndindex((N, N)):\n",
        "        wL_D[OR] += X1[OR, DE]\n",
        "\n",
        "    Z = (wL_D - wL_S) / what\n",
        "\n",
        "    # Update and normalize wages\n",
        "    what_new = what * (1 + psi * (Z / Xn1))\n",
        "    wgdp1 = np.sum(Xn1)\n",
        "    wgdp = np.sum(Xn)\n",
        "    what_new = what_new * wgdp / wgdp1\n",
        "\n",
        "    return what_new, Z, Phat, X1"
      ],
      "metadata": {
        "id": "VJ-ONXPBF3q4"
      },
      "execution_count": 18,
      "outputs": []
    },
    {
      "cell_type": "markdown",
      "source": [
        "Check whether this function is consistent with the previous result (without function)."
      ],
      "metadata": {
        "id": "ln8v6OPcBF65"
      }
    },
    {
      "cell_type": "code",
      "source": [
        "what_newfunc,_,_,_ = updatewagehat(what,dhat=dhat,theta=theta,N=N,X=X,psi=psi)\n",
        "print(what_newfunc)\n",
        "print(what_new)"
      ],
      "metadata": {
        "colab": {
          "base_uri": "https://localhost:8080/"
        },
        "id": "8nUgoMmZJVs_",
        "outputId": "34b62031-0997-4bf7-a95d-bb55c6c67684"
      },
      "execution_count": 19,
      "outputs": [
        {
          "output_type": "stream",
          "name": "stdout",
          "text": [
            "[1.00391044 0.99862164 0.99862164]\n",
            "[1.00391044 0.99862164 0.99862164]\n"
          ]
        }
      ]
    },
    {
      "cell_type": "markdown",
      "source": [
        "Use while-loop and update $\\hat{\\boldsymbol{w}}$ until the equilibrium condition is satisfied.\n"
      ],
      "metadata": {
        "id": "2mZnhB2fJpv8"
      }
    },
    {
      "cell_type": "code",
      "source": [
        "tol = 0.000001\n",
        "iter = 1\n",
        "\n",
        "Z = np.ones((N))\n",
        "what = np.ones((N))\n",
        "while max(np.abs(Z)) > tol and iter < 100000:\n",
        "  iter += 1\n",
        "  what_old = np.copy(what)\n",
        "  what,Z,Phat,_ = updatewagehat(what,dhat=dhat,theta=theta,N=N,X=X,psi=0.1)\n",
        "  if iter % 10 == 0:\n",
        "    print(iter)\n",
        "    print(Z)\n",
        "    print(what)\n",
        "\n",
        "  if max(np.abs(Z)) < tol:\n",
        "    print(\"Done!\")\n",
        "    print(iter)\n",
        "    print(Z)\n",
        "    print(what)\n"
      ],
      "metadata": {
        "colab": {
          "base_uri": "https://localhost:8080/"
        },
        "id": "NT9LvlmuKAnS",
        "outputId": "c102bd8b-6ed2-4cba-9d05-64598c7552c5"
      },
      "execution_count": 20,
      "outputs": [
        {
          "output_type": "stream",
          "name": "stdout",
          "text": [
            "10\n",
            "[ 8.19915634e-05 -4.14682847e-05 -4.14682847e-05]\n",
            "[1.00852779 0.99699398 0.99699398]\n",
            "Done!\n",
            "18\n",
            "[ 6.89840595e-07 -3.48928383e-07 -3.48928383e-07]\n",
            "[1.00856618 0.99698058 0.99698058]\n"
          ]
        }
      ]
    },
    {
      "cell_type": "markdown",
      "source": [
        "Check if this exact hat-algebra result is consistent with the resolved equilibrim:\n",
        "\n",
        "$$ \\hat{U}_i = \\hat{w}_i / \\hat{P}_i. $$"
      ],
      "metadata": {
        "id": "_jHa4eKCLBve"
      }
    },
    {
      "cell_type": "code",
      "source": [
        "Uhat = what / Phat\n",
        "Uhat_rs = U_cf/U\n",
        "what_rs = w_cf/w\n",
        "\n",
        "print(Uhat)\n",
        "print(Uhat_rs)\n",
        "print(what)\n",
        "print(what_rs)"
      ],
      "metadata": {
        "colab": {
          "base_uri": "https://localhost:8080/"
        },
        "id": "gXtSt_dvLim9",
        "outputId": "a6373678-2a13-4ea7-ffc5-66b4af349853"
      },
      "execution_count": 21,
      "outputs": [
        {
          "output_type": "stream",
          "name": "stdout",
          "text": [
            "[1.10939608 1.0809314  1.0809314 ]\n",
            "[1.10939542 1.08093162 1.08093162]\n",
            "[1.00856618 0.99698058 0.99698058]\n",
            "[1.00856551 0.99698081 0.99698081]\n"
          ]
        }
      ]
    }
  ]
}