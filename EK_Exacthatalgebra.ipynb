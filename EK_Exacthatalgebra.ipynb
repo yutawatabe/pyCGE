{
  "nbformat": 4,
  "nbformat_minor": 0,
  "metadata": {
    "colab": {
      "provenance": [],
      "authorship_tag": "ABX9TyMK1UPTz+xc9W95k1e1zPL9",
      "include_colab_link": true
    },
    "kernelspec": {
      "name": "python3",
      "display_name": "Python 3"
    },
    "language_info": {
      "name": "python"
    }
  },
  "cells": [
    {
      "cell_type": "markdown",
      "metadata": {
        "id": "view-in-github",
        "colab_type": "text"
      },
      "source": [
        "<a href=\"https://colab.research.google.com/github/yutawatabe/pyCGE/blob/main/EK_Exacthatalgebra.ipynb\" target=\"_parent\"><img src=\"https://colab.research.google.com/assets/colab-badge.svg\" alt=\"Open In Colab\"/></a>"
      ]
    },
    {
      "cell_type": "markdown",
      "source": [
        "## 反実仮想の計算"
      ],
      "metadata": {
        "id": "cVw2TtQXNiH2"
      }
    },
    {
      "cell_type": "code",
      "execution_count": null,
      "metadata": {
        "id": "RV7VaLC9NYiq"
      },
      "outputs": [],
      "source": [
        "# numpy, mathをインポート\n",
        "import numpy as np # 行列計算のライブラリ\n",
        "from math import gamma # 価格指数のため"
      ]
    },
    {
      "cell_type": "markdown",
      "source": [
        "#パラメーターを変更して解きなおすアプローチ\n",
        "\n",
        "パラメーターをシミュレートして、Eaton Kortumモデルの均衡を計算します。均衡を計算するために賃金を更新する関数を再び導入し、最終的に均衡の賃金、貿易額を求めるところまで関数化します。"
      ],
      "metadata": {
        "id": "q_RmTRuWOTNe"
      }
    },
    {
      "cell_type": "code",
      "source": [
        "def updatewage(w,theta,sigma,N,L_S,T,ｄ,psi):\n",
        "  \"\"\"\n",
        "    パラメータと経済変数に基づいて賃金を更新します。\n",
        "\n",
        "    この関数は、入力パラメータと経済変数に基づいて新しい賃金値を計算します。\n",
        "\n",
        "  パラメータ:\n",
        "      w (np.ndarray): 異なる国の現在の賃金率の配列。\n",
        "      theta (float): 貿易の弾力性。\n",
        "      sigma (float): 財の代替の弾力性。\n",
        "      N (int): 国の数。\n",
        "      L_S (np.ndarray): 各国の労働供給。\n",
        "      T (np.ndarray): 各国の技術水準。\n",
        "      d (np.ndarray): 国々間の貿易コスト。\n",
        "      psi (float): 賃金調整パラメータ。\n",
        "\n",
        "  戻り値:\n",
        "      w_new (np.ndarray): 更新された国の賃金。\n",
        "      Z (np.ndarray): 各国の超過労働需要\n",
        "      P (np.ndarray): 価格指数。\n",
        "      X (np.ndarray): 国々間の貿易フロー。\n",
        "  \"\"\"\n",
        "  Xn = w * L\n",
        "\n",
        "  ## 輸入シェアの計算\n",
        "  pi = np.zeros((N,N)) # 輸入シェア（n国の総消費のうち、i国の財が何割を占めるか）。ここでは輸出国が最初の次元、輸出国が次の次元\n",
        "  pi_num = np.zeros((N,N)) # 輸入シェアの分子部分\n",
        "  Phi = np.zeros((N)) # 輸入シェアの分母部分\n",
        "  for OR,DE in np.ndindex((N,N)):\n",
        "    pi_num[OR,DE] = T[OR] * (w[OR] * ｄ[OR,DE]) ** (-theta)\n",
        "    Phi[DE] += pi_num[OR,DE] # Phi[DE] = pi_den[DE] + pi_num[OR,DE]\n",
        "  for OR,DE in np.ndindex((N,N)):\n",
        "    pi[OR,DE] = pi_num[OR,DE] / Phi[DE]\n",
        "\n",
        "  # 価格指数の計算\n",
        "  P = gamma((theta + sigma - 1) / theta) **(1/(1-sigma)) * Phi ** (-1/theta)\n",
        "\n",
        "  # 輸入額の計算\n",
        "  X = np.zeros((N,N))\n",
        "  for OR,DE in np.ndindex((N,N)):\n",
        "    X[OR,DE] = pi[OR,DE] * Xn[DE]\n",
        "\n",
        "  ## 労働超過需要の計算\n",
        "  L_S = L\n",
        "  L_D = np.zeros((N))\n",
        "  for OR,DE in np.ndindex((N,N)):\n",
        "    L_D[OR] += X[OR,DE] / w[OR] # L_D[OR] = L_D[OR] + X[OR,DE] / w[OR]\n",
        "  Z = L_D - L_S\n",
        "\n",
        "  # 賃金更新と基準化\n",
        "  w_new = w * (1 + psi * (Z / L) )\n",
        "  wgdp = np.sum(w_new * L)\n",
        "  w_new = w_new / wgdp\n",
        "\n",
        "  return w_new,Z,X,P\n",
        "\n",
        "def solve_eqm(theta,sigma,N,L,T,d,psi,tol,maxiter):\n",
        "\n",
        "  # 賃金と労働超過需要の初期化\n",
        "  Z = np.ones((N))\n",
        "  w = np.ones((N))\n",
        "\n",
        "  iter = 1\n",
        "  # 労働超過需要が十分に小さければLoopから抜け出す\n",
        "  while max(np.abs(Z)) > tol and iter < maxiter:\n",
        "    iter += 1\n",
        "    w_old = np.copy(w)\n",
        "    w,Z,_,_ = updatewage(w,theta=4,sigma=3,N=3,L_S=L,T=T,d=d,psi=0.1)\n",
        "    if iter % 10 == 0:\n",
        "      print(iter)\n",
        "      #print(Z)\n",
        "      #print(w)\n",
        "\n",
        "  if iter == maxiter:\n",
        "    print(\"Not done\")\n",
        "    return w,Z,P,X\n",
        "  else:\n",
        "    w,Z,X,P = updatewage(w,theta=4,sigma=3,N=3,L_S=L,T=T,d=d,psi=0.1)\n",
        "    return w,Z,P,X\n"
      ],
      "metadata": {
        "id": "UpQJq_Z5OW0q"
      },
      "execution_count": null,
      "outputs": []
    },
    {
      "cell_type": "markdown",
      "source": [
        "この関数を用いて、均衡をパラメーターから計算しておきます。"
      ],
      "metadata": {
        "id": "fbqQO5qCOXs7"
      }
    },
    {
      "cell_type": "code",
      "source": [
        "N = 3 # 国の数\n",
        "theta = 4 # 貿易弾力性のパラメーター\n",
        "sigma = 3 # 代替の弾力性のパラメーター\n",
        "T = np.array([1., 1., 1.]) # 技術のパラメーター\n",
        "L = np.array([1,1.5,1.5]) # 人口\n",
        "d = np.ones((N,N)) * 1.5 # 貿易費用\n",
        "for OR in np.ndindex((N)):\n",
        "  d[OR,OR] = 1 #国内貿易費用は1にしておく。\n",
        "\n",
        "# 均衡を解く\n",
        "w,_,P,X = solve_eqm(theta,sigma,N,L,T,d,psi=0.1,tol=0.00001,maxiter=1000)\n",
        "print(w)"
      ],
      "metadata": {
        "colab": {
          "base_uri": "https://localhost:8080/"
        },
        "id": "oGOuj15EO4x2",
        "outputId": "01b1c2f6-0e73-406b-dda9-439199bfced9"
      },
      "execution_count": null,
      "outputs": [
        {
          "output_type": "stream",
          "name": "stdout",
          "text": [
            "10\n",
            "20\n",
            "[0.26061868 0.24646044 0.24646044]\n"
          ]
        }
      ]
    },
    {
      "cell_type": "markdown",
      "source": [
        "この数値を初期均衡として、反実仮想を計算します。まずパラメーターが既知として、モデルを解きなおしてみる。ここでは貿易自由化を考えます。初期均衡では\n",
        "$$ \\tau_{in} = 1.5 $$\n",
        "だったところを\n",
        "$$ \\tau_{in}' = 1.2 $$\n",
        "としておきます（国内貿易費用は1のまま固定）。"
      ],
      "metadata": {
        "id": "2S7Ydht6P62F"
      }
    },
    {
      "cell_type": "code",
      "source": [
        "d_new = np.ones((N,N)) * 1.2 # 新しい貿易費用\n",
        "for OR in np.ndindex((N)):\n",
        "  d_new[OR,OR] = 1 #国内貿易費用は 1\n",
        "print(d_new)\n",
        "\n",
        "dhat = d_new / d\n",
        "print(dhat)"
      ],
      "metadata": {
        "colab": {
          "base_uri": "https://localhost:8080/"
        },
        "id": "NORRRqz-Pt9j",
        "outputId": "6ef94d94-2258-41f2-eb48-3f467d10ed03"
      },
      "execution_count": null,
      "outputs": [
        {
          "output_type": "stream",
          "name": "stdout",
          "text": [
            "[[1.  1.2 1.2]\n",
            " [1.2 1.  1.2]\n",
            " [1.2 1.2 1. ]]\n",
            "[[1.  0.8 0.8]\n",
            " [0.8 1.  0.8]\n",
            " [0.8 0.8 1. ]]\n"
          ]
        }
      ]
    },
    {
      "cell_type": "markdown",
      "source": [
        "モデルを解きなおしてみて、実質賃金（厚生）を比較すると…。\n",
        "\n"
      ],
      "metadata": {
        "id": "B90vRPRhRzCk"
      }
    },
    {
      "cell_type": "code",
      "source": [
        "w_cf,_,P_cf,X_cf = solve_eqm(theta,sigma,N,L,T,d_new,psi=0.1,tol=0.00001,maxiter=1000)\n",
        "\n",
        "U = w / P\n",
        "U_cf = w_cf / P_cf\n",
        "print(U_cf/U)"
      ],
      "metadata": {
        "colab": {
          "base_uri": "https://localhost:8080/"
        },
        "id": "t1BthhlHRyqN",
        "outputId": "76f78fb3-9cfb-4dc7-8d9f-9a90bf8fff3e"
      },
      "execution_count": null,
      "outputs": [
        {
          "output_type": "stream",
          "name": "stdout",
          "text": [
            "10\n",
            "[1.10939542 1.08093162 1.08093162]\n"
          ]
        }
      ]
    },
    {
      "cell_type": "markdown",
      "source": [
        "# Exact Hat Algebraの導入\n",
        "\n",
        "Exact hat algebraを使って、このTrade liberizationの反実仮想が整合的に求まるかを確認します。具体的には $(w_{sq} / P_{sq}) / (w_{cf} / P_{cf})$という実質賃金がモデルを解きなおした場合と、Exact hat algebraを使った場合で整合的かを確認していきます。"
      ],
      "metadata": {
        "id": "HGhyi65dRw6b"
      }
    },
    {
      "cell_type": "markdown",
      "source": [
        "Exact hat algebraのために、総消費と輸入シェアをデータから計算します。"
      ],
      "metadata": {
        "id": "EOa1iOTqSGoL"
      }
    },
    {
      "cell_type": "code",
      "source": [
        "# 総需要を計算\n",
        "Xn = np.sum(X,axis=0) # np.sum(X,axis=0)とは、0次元目に沿って（Pythonは0から添え字が始まる）Xを足し上げる、ということ。\n",
        "\n",
        "# 輸入シェアを計算\n",
        "pi = np.zeros((N,N))\n",
        "for OR,DE in np.ndindex((N,N)):\n",
        "  pi[OR,DE] = X[OR,DE] / Xn[DE]\n",
        "print(X)\n",
        "print(Xn)\n",
        "print(pi)"
      ],
      "metadata": {
        "colab": {
          "base_uri": "https://localhost:8080/"
        },
        "id": "asAQcFfBPCtA",
        "outputId": "2d25af46-830e-4b18-cc0e-8f7e03e361fd"
      },
      "execution_count": null,
      "outputs": [
        {
          "output_type": "stream",
          "name": "stdout",
          "text": [
            "[[0.17444744 0.04308621 0.04308621]\n",
            " [0.04308556 0.2727316  0.05387291]\n",
            " [0.04308556 0.05387291 0.2727316 ]]\n",
            "[0.26061855 0.36969072 0.36969072]\n",
            "[[0.66935926 0.11654664 0.11654664]\n",
            " [0.16532037 0.7377291  0.14572427]\n",
            " [0.16532037 0.14572427 0.7377291 ]]\n"
          ]
        }
      ]
    },
    {
      "cell_type": "markdown",
      "source": [
        "とりあえず$\\boldsymbol{\\hat{w}}$をすべて1と仮置きして、Exact hat algebraの均衡が成立しているかを確認する。"
      ],
      "metadata": {
        "id": "CrgaFYccXhzU"
      }
    },
    {
      "cell_type": "code",
      "source": [
        "what = np.ones((N))\n",
        "print(what)"
      ],
      "metadata": {
        "colab": {
          "base_uri": "https://localhost:8080/"
        },
        "id": "J6JibPEdMlrw",
        "outputId": "2b39ef6c-2cda-4b06-f0ee-60ca2a6f7125"
      },
      "execution_count": null,
      "outputs": [
        {
          "output_type": "stream",
          "name": "stdout",
          "text": [
            "[1. 1. 1.]\n"
          ]
        }
      ]
    },
    {
      "cell_type": "markdown",
      "source": [
        "総消費もこれに伴って変化するため、それを計算しておきます\n",
        "$$ X_{i}' = \\hat{w}_{i} X_{i} $$"
      ],
      "metadata": {
        "id": "kBLoaBVoSP3_"
      }
    },
    {
      "cell_type": "code",
      "source": [
        "Xn1 = what * Xn\n",
        "print(Xn1)"
      ],
      "metadata": {
        "colab": {
          "base_uri": "https://localhost:8080/"
        },
        "id": "0ykl6MqOSdub",
        "outputId": "310c2692-ef88-4d1b-b5fd-193894b5a4c2"
      },
      "execution_count": null,
      "outputs": [
        {
          "output_type": "stream",
          "name": "stdout",
          "text": [
            "[0.26061855 0.36969072 0.36969072]\n"
          ]
        }
      ]
    },
    {
      "cell_type": "markdown",
      "source": [
        "この$\\boldsymbol{\\hat{w}}$から$\\boldsymbol{\\hat{\\pi}}$を計算します。\n",
        "$$ \\hat{\\pi}_{ni} = \\frac{(\\hat{w}_i \\hat{d}_{ni})^{-\\theta}}{ \\sum_{k=1}^N \\pi_{nk} (\\hat{w}_k \\hat{d}_{nk})^{-\\theta} } $$\n",
        "そして価格指数も計算しておきます。\n",
        "$$ \\hat{P}_n = \\left( \\sum_{k=1}^N \\pi_{nk} (\\hat{w}_k \\hat{d}_{nk})^{-\\theta} \\right)^{-1/\\theta} $$"
      ],
      "metadata": {
        "id": "hFBJBMk3MDfL"
      }
    },
    {
      "cell_type": "code",
      "source": [
        "pihat = np.zeros((N,N))\n",
        "pihat_num = np.zeros((N,N))\n",
        "pihat_den = np.zeros((N))\n",
        "\n",
        "for OR,DE in np.ndindex((N,N)):\n",
        "  pihat_num[OR,DE] = (what[OR] * dhat[OR,DE] )**(-theta)\n",
        "  pihat_den[DE] += pi[OR,DE] * pihat_num[OR,DE] # pihat_den[DE] = pihat_den[DE] + pihat_num[OR,DE]\n",
        "\n",
        "for OR,DE in np.ndindex((N,N)):\n",
        "  pihat[OR,DE] = pihat_num[OR,DE] / pihat_den[DE]\n",
        "\n",
        "Phat = pihat_den ** (-1/theta)\n",
        "\n",
        "# 確認。縦軸で足し上げたら1になるはず。\n",
        "print(pihat)\n",
        "print(pihat * pi)\n",
        "print(np.sum(pihat*pi,axis=0))"
      ],
      "metadata": {
        "colab": {
          "base_uri": "https://localhost:8080/"
        },
        "id": "DePy2TZuOBGg",
        "outputId": "c180ffbf-89dc-4a21-beb8-0cf13a86df97"
      },
      "execution_count": null,
      "outputs": [
        {
          "output_type": "stream",
          "name": "stdout",
          "text": [
            "[[0.67723715 1.77165261 1.77165261]\n",
            " [1.65341102 0.72566891 1.77165261]\n",
            " [1.65341102 1.77165261 0.72566891]]\n",
            "[[0.45331496 0.20648016 0.20648016]\n",
            " [0.27334252 0.53534707 0.25817278]\n",
            " [0.27334252 0.25817278 0.53534707]]\n",
            "[1. 1. 1.]\n"
          ]
        }
      ]
    },
    {
      "cell_type": "markdown",
      "source": [
        "ここで新しい貿易額を計算しておきます。\n",
        "$$ X'_{ni} = \\pi_{ni} \\hat{\\pi}_{ni} X'_{i} $$"
      ],
      "metadata": {
        "id": "SAjEwi-XIW-_"
      }
    },
    {
      "cell_type": "code",
      "source": [
        "X1 = np.zeros((N,N))\n",
        "for OR,DE in np.ndindex((N,N)):\n",
        "  X1[OR,DE] = pi[OR,DE] * pihat[OR,DE] * Xn1[DE]\n"
      ],
      "metadata": {
        "id": "N43FhqI-IkGT"
      },
      "execution_count": null,
      "outputs": []
    },
    {
      "cell_type": "markdown",
      "source": [
        "仮置きされた$ \\boldsymbol{\\hat{w}}$の下で、労働市場均衡が成立しているかを確認します。労働市場が均衡しているということは\n",
        "\n",
        "$$  L^S_{i} = \\frac{\\sum_{n=1}^N X_{ni}'}{w'_i} $$\n",
        "\n",
        "となっていなくてはなりません。両辺を$w_i'$で掛け算し、hatで表現すると\n",
        "$$ \\hat{w}_i w_i L_{i} = \\sum_{n=1}^N X_{ni}' $$\n",
        "左を労働供給、右を労働需要ととらえ、この差を超過需要として計算します。"
      ],
      "metadata": {
        "id": "z-7GaCzcTkRh"
      }
    },
    {
      "cell_type": "code",
      "source": [
        "wL_D = np.zeros((N))\n",
        "wL_S = what * Xn\n",
        "\n",
        "for OR,DE in np.ndindex((N,N)):\n",
        "  wL_D[OR] += X1[OR,DE]\n",
        "\n",
        "Z = (wL_D - wL_S) / what\n",
        "print(Z)"
      ],
      "metadata": {
        "colab": {
          "base_uri": "https://localhost:8080/"
        },
        "id": "87AOoX6ARB7H",
        "outputId": "037b95fc-2843-4aa8-88f1-dd495268ba5c"
      },
      "execution_count": null,
      "outputs": [
        {
          "output_type": "stream",
          "name": "stdout",
          "text": [
            "[ 0.01019133 -0.00509567 -0.00509567]\n"
          ]
        }
      ]
    },
    {
      "cell_type": "markdown",
      "source": [
        "モデルを解くのと同様に超過需要から$\\boldsymbol{\\hat{w}}$をアップデートします。$\\psi$を設定しておきます。\n",
        "$$ \\hat{w}_{new,i} = \\hat{w}_i * \\left(1 + \\psi * \\frac{Z_i}{X'_{i}}\\right) $$"
      ],
      "metadata": {
        "id": "koRuDn26_BKH"
      }
    },
    {
      "cell_type": "code",
      "source": [
        "psi = 0.1 # 収束のスピードをコントロールするパラメーター\n",
        "\n",
        "what_new = what * (1 + psi * (Z / Xn1) )"
      ],
      "metadata": {
        "id": "H-6FsNVS_KaG"
      },
      "execution_count": null,
      "outputs": []
    },
    {
      "cell_type": "markdown",
      "source": [
        "ここで新しい$\\boldsymbol{\\hat{w}}$と古い$\\boldsymbol{\\hat{w}}$を比較します。ちゃんと超過需要が発生していた国において賃金が高くなっているか確認できるはずです。"
      ],
      "metadata": {
        "id": "Fps2FGRcA2fV"
      }
    },
    {
      "cell_type": "code",
      "source": [
        "print(Z)\n",
        "print(what_new - what)"
      ],
      "metadata": {
        "colab": {
          "base_uri": "https://localhost:8080/"
        },
        "id": "Ro-mFZmTA2Mo",
        "outputId": "47955542-84f3-4863-8b26-6440b3d0d410"
      },
      "execution_count": null,
      "outputs": [
        {
          "output_type": "stream",
          "name": "stdout",
          "text": [
            "[ 0.01019133 -0.00509567 -0.00509567]\n",
            "[ 0.00391044 -0.00137836 -0.00137836]\n"
          ]
        }
      ]
    },
    {
      "cell_type": "markdown",
      "source": [
        "均衡賃金の変化は基準化なしに一意にはきまりません。最後に反実仮想の世界のGDP変化しないように基準化しておきます。"
      ],
      "metadata": {
        "id": "IrAT4JoZA_Jx"
      }
    },
    {
      "cell_type": "code",
      "source": [
        "wgdp1 = np.sum(what_new * Xn1)\n",
        "wgdp = np.sum(Xn)\n",
        "print(wgdp1)\n",
        "what_new = what_new / wgdp1 * wgdp\n",
        "print(what_new)"
      ],
      "metadata": {
        "colab": {
          "base_uri": "https://localhost:8080/"
        },
        "id": "jgrAtCA_BGtZ",
        "outputId": "6b0e7c89-5e3a-497d-fcc8-66104262ce4d"
      },
      "execution_count": null,
      "outputs": [
        {
          "output_type": "stream",
          "name": "stdout",
          "text": [
            "1.0\n",
            "[1.00391044 0.99862164 0.99862164]\n"
          ]
        }
      ]
    },
    {
      "cell_type": "markdown",
      "source": [
        "# Exact Hat Algebraを関数化\n",
        "\n",
        "いままでの流れをまとめると\n",
        "\n",
        "\n",
        "1.   パラメーターを設定する\n",
        "2.   仮定した賃金変化をもとに、輸入シェアの変化、貿易額の変化を計算する\n",
        "3.   新しい貿易額を用いて、労働市場の均衡をチェックする\n",
        "4.   労働の超過需要を用いて、仮置きした賃金変化を更新していく。\n",
        "\n",
        "この2から4を**関数**にまとめます。"
      ],
      "metadata": {
        "id": "IBZMdBi3Fvvt"
      }
    },
    {
      "cell_type": "code",
      "source": [
        "def updatewagehat(what,dhat,theta,N,X,psi):\n",
        "\n",
        "  # 総需要を計算する\n",
        "  Xn = np.sum(X,axis=0)\n",
        "  Xn1 = what * Xn\n",
        "\n",
        "  # 輸入シェアを計算する\n",
        "  for OR,DE in np.ndindex((N,N)):\n",
        "    pi[OR,DE] = X[OR,DE] / Xn[DE]\n",
        "\n",
        "  # 輸入シェアの変化を計算する\n",
        "  pihat = np.zeros((N,N))\n",
        "  pihat_num = np.zeros((N,N))\n",
        "  pihat_den = np.zeros((N))\n",
        "  for OR,DE in np.ndindex((N,N)):\n",
        "    pihat_num[OR,DE] = (what[OR] * dhat[OR,DE] )**(-theta)\n",
        "    pihat_den[DE] += pi[OR,DE] * pihat_num[OR,DE]\n",
        "  for OR,DE in np.ndindex((N,N)):\n",
        "    pihat[OR,DE] = pihat_num[OR,DE] / pihat_den[DE]\n",
        "\n",
        "  # 価格指数の変化を計算する\n",
        "  Phat = pihat_den ** (-1/theta)\n",
        "\n",
        "  # 新しい貿易額を計算する\n",
        "  X1 = np.zeros((N,N))\n",
        "  for OR,DE in np.ndindex((N,N)):\n",
        "    X1[OR,DE] = pi[OR,DE] * pihat[OR,DE] * Xn1[DE]\n",
        "\n",
        "  # 新しい均衡での労働市場均衡を計算する\n",
        "  wL_D = np.zeros((N))\n",
        "  wL_S = what * Xn\n",
        "  for OR,DE in np.ndindex((N,N)):\n",
        "    wL_D[OR] += X1[OR,DE]\n",
        "  Z = (wL_D - wL_S) / what\n",
        "\n",
        "  # 賃金を更新、基準化する\n",
        "  what_new = what * (1 + psi * (Z / Xn1) )\n",
        "  wgdp1 = np.sum(Xn1)\n",
        "  wgdp = np.sum(Xn)\n",
        "  what_new = what_new * wgdp / wgdp1\n",
        "\n",
        "  return what_new,Z,Phat,X1"
      ],
      "metadata": {
        "id": "VJ-ONXPBF3q4"
      },
      "execution_count": null,
      "outputs": []
    },
    {
      "cell_type": "markdown",
      "source": [
        "ここでちゃんと結果が前の関数なしで書いたiterationと一致するかを確認します。"
      ],
      "metadata": {
        "id": "ln8v6OPcBF65"
      }
    },
    {
      "cell_type": "code",
      "source": [
        "what_newfunc,_,_,_ = updatewagehat(what,dhat=dhat,theta=theta,N=N,X=X,psi=psi)\n",
        "print(what_newfunc)\n",
        "print(what_new)"
      ],
      "metadata": {
        "colab": {
          "base_uri": "https://localhost:8080/"
        },
        "id": "8nUgoMmZJVs_",
        "outputId": "2039f232-9d3a-4414-8479-c34d73edba6f"
      },
      "execution_count": null,
      "outputs": [
        {
          "output_type": "stream",
          "name": "stdout",
          "text": [
            "[1.00391044 0.99862164 0.99862164]\n",
            "[1.00391044 0.99862164 0.99862164]\n"
          ]
        }
      ]
    },
    {
      "cell_type": "markdown",
      "source": [
        "最後にwhile-loopを用いて$\\boldsymbol{\\hat{w}}$が均衡条件を満たすまで更新していきます"
      ],
      "metadata": {
        "id": "2mZnhB2fJpv8"
      }
    },
    {
      "cell_type": "code",
      "source": [
        "tol = 0.000001\n",
        "iter = 1\n",
        "\n",
        "Z = np.ones((N))\n",
        "what = np.ones((N))\n",
        "while max(np.abs(Z)) > tol and iter < 100000:\n",
        "  iter += 1\n",
        "  what_old = np.copy(what)\n",
        "  what,Z,Phat,_ = updatewagehat(what,dhat=dhat,theta=theta,N=N,X=X,psi=0.1)\n",
        "  if iter % 10 == 0:\n",
        "    print(iter)\n",
        "    print(Z)\n",
        "    print(what)\n",
        "\n",
        "  if max(np.abs(Z)) < tol:\n",
        "    print(\"Done!\")\n",
        "    print(iter)\n",
        "    print(Z)\n",
        "    print(what)\n"
      ],
      "metadata": {
        "colab": {
          "base_uri": "https://localhost:8080/"
        },
        "id": "NT9LvlmuKAnS",
        "outputId": "3707bdc1-0a61-4731-8971-4545a6a293db"
      },
      "execution_count": null,
      "outputs": [
        {
          "output_type": "stream",
          "name": "stdout",
          "text": [
            "10\n",
            "[ 8.19915634e-05 -4.14682847e-05 -4.14682847e-05]\n",
            "[1.00852779 0.99699398 0.99699398]\n",
            "Done!\n",
            "18\n",
            "[ 6.89840595e-07 -3.48928383e-07 -3.48928383e-07]\n",
            "[1.00856618 0.99698058 0.99698058]\n"
          ]
        }
      ]
    },
    {
      "cell_type": "markdown",
      "source": [
        "これが均衡を計算しなおした値と一致するかを確認します。\n",
        "\n",
        "$$ \\hat{U}_i = \\hat{w}_i / \\hat{P}_i $$"
      ],
      "metadata": {
        "id": "_jHa4eKCLBve"
      }
    },
    {
      "cell_type": "code",
      "source": [
        "Uhat = what / Phat\n",
        "Uhat_rs = U_cf/U\n",
        "what_rs = w_cf/w\n",
        "\n",
        "print(Uhat)\n",
        "print(Uhat_rs)\n",
        "print(what)\n",
        "print(what_rs)"
      ],
      "metadata": {
        "colab": {
          "base_uri": "https://localhost:8080/"
        },
        "id": "gXtSt_dvLim9",
        "outputId": "bb03a732-08a7-42af-8ef3-0c5d2b9047ab"
      },
      "execution_count": null,
      "outputs": [
        {
          "output_type": "stream",
          "name": "stdout",
          "text": [
            "[1.10939608 1.0809314  1.0809314 ]\n",
            "[1.10939542 1.08093162 1.08093162]\n",
            "[1.00856618 0.99698058 0.99698058]\n",
            "[1.00856551 0.99698081 0.99698081]\n"
          ]
        }
      ]
    }
  ]
}