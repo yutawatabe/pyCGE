{
  "nbformat": 4,
  "nbformat_minor": 0,
  "metadata": {
    "colab": {
      "provenance": [],
      "authorship_tag": "ABX9TyON8MzkioCW7USFTsGa5uKP",
      "include_colab_link": true
    },
    "kernelspec": {
      "name": "python3",
      "display_name": "Python 3"
    },
    "language_info": {
      "name": "python"
    }
  },
  "cells": [
    {
      "cell_type": "markdown",
      "metadata": {
        "id": "view-in-github",
        "colab_type": "text"
      },
      "source": [
        "<a href=\"https://colab.research.google.com/github/yutawatabe/pyCGE/blob/main/EK_Exacthatalgebra.ipynb\" target=\"_parent\"><img src=\"https://colab.research.google.com/assets/colab-badge.svg\" alt=\"Open In Colab\"/></a>"
      ]
    },
    {
      "cell_type": "markdown",
      "source": [
        "## 反実仮想の計算"
      ],
      "metadata": {
        "id": "cVw2TtQXNiH2"
      }
    },
    {
      "cell_type": "code",
      "execution_count": null,
      "metadata": {
        "id": "RV7VaLC9NYiq"
      },
      "outputs": [],
      "source": [
        "# numpy, mathをインポート\n",
        "import numpy as np # 行列計算のライブラリ\n",
        "from math import gamma # 価格指数のため"
      ]
    },
    {
      "cell_type": "markdown",
      "source": [
        "#パラメーターを変更して解きなおすアプローチ\n",
        "\n",
        "パラメーターをシミュレートして、Eaton Kortumモデルの均衡を計算します。均衡を計算するために賃金を更新する関数を再び導入し、最終的に均衡の賃金、貿易額を求めるところまで関数化します。"
      ],
      "metadata": {
        "id": "q_RmTRuWOTNe"
      }
    },
    {
      "cell_type": "code",
      "source": [
        "def updatewage(w,theta,sigma,N,L_S,T,ｄ,psi):\n",
        "  \"\"\"\n",
        "    パラメータと経済変数に基づいて賃金を更新します。\n",
        "\n",
        "    この関数は、入力パラメータと経済変数に基づいて新しい賃金値を計算します。\n",
        "\n",
        "  パラメータ:\n",
        "      w (np.ndarray): 異なる国の現在の賃金率の配列。\n",
        "      theta (float): 貿易の弾力性。\n",
        "      sigma (float): 財の代替の弾力性。\n",
        "      N (int): 国の数。\n",
        "      L_S (np.ndarray): 各国の労働供給。\n",
        "      T (np.ndarray): 各国の技術水準。\n",
        "      d (np.ndarray): 国々間の貿易コスト。\n",
        "      psi (float): 賃金調整パラメータ。\n",
        "\n",
        "  戻り値:\n",
        "      w_new (np.ndarray): 更新された国の賃金。\n",
        "      Z (np.ndarray): 各国の超過労働需要\n",
        "      P (np.ndarray): 価格指数。\n",
        "      X (np.ndarray): 国々間の貿易フロー。\n",
        "  \"\"\"\n",
        "  Xn = w * L\n",
        "\n",
        "  ## 輸入シェアの計算\n",
        "  pi = np.zeros((N,N)) # 輸入シェア（n国の総消費のうち、i国の財が何割を占めるか）。ここでは輸出国が最初の次元、輸出国が次の次元\n",
        "  pi_num = np.zeros((N,N)) # 輸入シェアの分子部分\n",
        "  Phi = np.zeros((N)) # 輸入シェアの分母部分\n",
        "  for OR,DE in np.ndindex((N,N)):\n",
        "    pi_num[OR,DE] = T[OR] * (w[OR] * ｄ[OR,DE]) ** (-theta)\n",
        "    Phi[DE] += pi_num[OR,DE] # Phi[DE] = pi_den[DE] + pi_num[OR,DE]\n",
        "  for OR,DE in np.ndindex((N,N)):\n",
        "    pi[OR,DE] = pi_num[OR,DE] / Phi[DE]\n",
        "\n",
        "  # 価格指数の計算\n",
        "  P = gamma((theta + sigma - 1) / theta) **(1/(1-sigma)) * Phi ** (-1/theta)\n",
        "\n",
        "  # 輸入額の計算\n",
        "  X = np.zeros((N,N))\n",
        "  for OR,DE in np.ndindex((N,N)):\n",
        "    X[OR,DE] = pi[OR,DE] * Xn[DE]\n",
        "\n",
        "  ## 労働超過需要の計算\n",
        "  L_S = L\n",
        "  L_D = np.zeros((N))\n",
        "  for OR,DE in np.ndindex((N,N)):\n",
        "    L_D[OR] += X[OR,DE] / w[OR] # L_D[OR] = L_D[OR] + X[OR,DE] / w[OR]\n",
        "  Z = L_D - L_S\n",
        "\n",
        "  # 賃金更新と基準化\n",
        "  w_new = w * (1 + psi * (Z / L) )\n",
        "  wgdp = np.sum(w_new * L)\n",
        "  w_new = w_new / wgdp\n",
        "\n",
        "  return w_new,Z,X,P\n",
        "\n",
        "def solve_eqm(theta,sigma,N,L,T,d,psi,tol,maxiter):\n",
        "\n",
        "  # 賃金と労働超過需要の初期化\n",
        "  Z = np.ones((N))\n",
        "  w = np.ones((N))\n",
        "\n",
        "  iter = 1\n",
        "  # 労働超過需要が十分に小さければLoopから抜け出す\n",
        "  while max(np.abs(Z)) > tol and iter < maxiter:\n",
        "    iter += 1\n",
        "    w_old = np.copy(w)\n",
        "    w,Z,_,_ = updatewage(w,theta=4,sigma=3,N=3,L_S=L,T=T,d=d,psi=0.1)\n",
        "    if iter % 10 == 0:\n",
        "      print(iter)\n",
        "      #print(Z)\n",
        "      #print(w)\n",
        "\n",
        "  if iter == maxiter:\n",
        "    print(\"Not done\")\n",
        "    return w,Z,P,X\n",
        "  else:\n",
        "    w,Z,X,P = updatewage(w,theta=4,sigma=3,N=3,L_S=L,T=T,d=d,psi=0.1)\n",
        "    return w,Z,P,X\n"
      ],
      "metadata": {
        "id": "UpQJq_Z5OW0q"
      },
      "execution_count": null,
      "outputs": []
    },
    {
      "cell_type": "markdown",
      "source": [
        "この関数を用いて、均衡をパラメーターから計算しておきます。"
      ],
      "metadata": {
        "id": "fbqQO5qCOXs7"
      }
    },
    {
      "cell_type": "code",
      "source": [
        "N = 3 # 国の数\n",
        "theta = 4 # 貿易弾力性のパラメーター\n",
        "sigma = 3 # 代替の弾力性のパラメーター\n",
        "T = np.array([1., 1., 1.]) # 技術のパラメーター\n",
        "L = np.array([1,1.5,1.5]) # 人口\n",
        "d = np.ones((N,N)) * 1.5 # 貿易費用\n",
        "for OR in np.ndindex((N)):\n",
        "  d[OR,OR] = 1 #国内貿易費用は1にしておく。\n",
        "\n",
        "# 均衡を解く\n",
        "w,_,P,X = solve_eqm(theta,sigma,N,L,T,d,psi=0.1,tol=0.001,maxiter=1000)\n",
        "print(w)"
      ],
      "metadata": {
        "colab": {
          "base_uri": "https://localhost:8080/"
        },
        "id": "oGOuj15EO4x2",
        "outputId": "f4adde7d-1f86-4a3e-ea19-522cc48ffdcd"
      },
      "execution_count": null,
      "outputs": [
        {
          "output_type": "stream",
          "name": "stdout",
          "text": [
            "10\n",
            "[0.26058948 0.24647017 0.24647017]\n"
          ]
        }
      ]
    },
    {
      "cell_type": "markdown",
      "source": [
        "この数値を初期均衡として、反実仮想を計算します。まずパラメーターが既知として、モデルを解きなおしてみる。ここでは貿易自由化を考えます。初期均衡では\n",
        "$$ \\tau_{in} = 1.5 $$\n",
        "だったところを\n",
        "$$ \\tau_{in}' = 1.2 $$\n",
        "としておきます（国内貿易費用は1のまま固定）。"
      ],
      "metadata": {
        "id": "2S7Ydht6P62F"
      }
    },
    {
      "cell_type": "code",
      "source": [
        "d_new = np.ones((N,N)) * 1.2 # 新しい貿易費用\n",
        "for OR in np.ndindex((N)):\n",
        "  d_new[OR,OR] = 1 #国内貿易費用は 1\n",
        "print(d_new)\n",
        "\n",
        "dhat = d_new / d\n",
        "print(dhat)"
      ],
      "metadata": {
        "colab": {
          "base_uri": "https://localhost:8080/"
        },
        "id": "NORRRqz-Pt9j",
        "outputId": "89a7f9dd-6ac7-4315-86b7-5d01530f1fec"
      },
      "execution_count": null,
      "outputs": [
        {
          "output_type": "stream",
          "name": "stdout",
          "text": [
            "[[1.  1.2 1.2]\n",
            " [1.2 1.  1.2]\n",
            " [1.2 1.2 1. ]]\n",
            "[[1.  0.8 0.8]\n",
            " [0.8 1.  0.8]\n",
            " [0.8 0.8 1. ]]\n"
          ]
        }
      ]
    },
    {
      "cell_type": "markdown",
      "source": [
        "モデルを解きなおしてみて、実質賃金（厚生）を比較すると…。\n",
        "\n"
      ],
      "metadata": {
        "id": "B90vRPRhRzCk"
      }
    },
    {
      "cell_type": "code",
      "source": [
        "w_cf,_,P_cf,X_cf = solve_eqm(theta,sigma,N,L,T,d_new,psi=0.1,tol=0.001,maxiter=1000)\n",
        "\n",
        "U = w / P\n",
        "U_cf = w / P_cf\n",
        "print(U_cf/U)"
      ],
      "metadata": {
        "colab": {
          "base_uri": "https://localhost:8080/"
        },
        "id": "t1BthhlHRyqN",
        "outputId": "3cf96d92-ea0b-40b9-d2ff-5f00874d153b"
      },
      "execution_count": null,
      "outputs": [
        {
          "output_type": "stream",
          "name": "stdout",
          "text": [
            "10\n",
            "[1.09990159 1.08422993 1.08422993]\n"
          ]
        }
      ]
    },
    {
      "cell_type": "markdown",
      "source": [
        "# Exact Hat Algebraの導入\n",
        "\n",
        "Exact hat algebraを使って、このTrade liberizationの反実仮想が整合的に求まるかを確認します。具体的には $(w_{sq} / P_{sq}) / (w_{cf} / P_{cf})$という実質賃金がモデルを解きなおした場合と、Exact hat algebraを使った場合で整合的かを確認していきます。"
      ],
      "metadata": {
        "id": "HGhyi65dRw6b"
      }
    },
    {
      "cell_type": "markdown",
      "source": [
        "Exact hat algebraのために、総消費と輸入シェアをデータから計算します。"
      ],
      "metadata": {
        "id": "EOa1iOTqSGoL"
      }
    },
    {
      "cell_type": "code",
      "source": [
        "# 総需要を計算\n",
        "Xn = np.sum(X,axis=0) # np.sum(X,axis=0)とは、0次元目に沿って（Pythonは0から添え字が始まる）Xを足し上げる、ということ。\n",
        "\n",
        "# 輸入シェアを計算\n",
        "pi = np.zeros((N,N))\n",
        "for OR,DE in np.ndindex((N,N)):\n",
        "  pi[OR,DE] = X[OR,DE] / Xn[DE]\n",
        "print(X)\n",
        "print(Xn)\n",
        "print(pi)"
      ],
      "metadata": {
        "colab": {
          "base_uri": "https://localhost:8080/"
        },
        "id": "asAQcFfBPCtA",
        "outputId": "68bb6a52-7a3f-4650-89cf-6b5270872048"
      },
      "execution_count": null,
      "outputs": [
        {
          "output_type": "stream",
          "name": "stdout",
          "text": [
            "[[0.17447018 0.04312279 0.04312279]\n",
            " [0.04305264 0.27271905 0.05387043]\n",
            " [0.04305264 0.05387043 0.27271905]]\n",
            "[0.26057545 0.36971227 0.36971227]\n",
            "[[0.66955724 0.11663879 0.11663879]\n",
            " [0.16522138 0.73765214 0.14570907]\n",
            " [0.16522138 0.14570907 0.73765214]]\n"
          ]
        }
      ]
    },
    {
      "cell_type": "markdown",
      "source": [
        "とりあえず$\\boldsymbol{\\hat{w}}$をすべて1と仮置きして、Exact hat algebraの均衡が成立しているかを確認する。"
      ],
      "metadata": {
        "id": "CrgaFYccXhzU"
      }
    },
    {
      "cell_type": "code",
      "source": [
        "what = np.ones((N))\n",
        "print(what)"
      ],
      "metadata": {
        "colab": {
          "base_uri": "https://localhost:8080/"
        },
        "id": "J6JibPEdMlrw",
        "outputId": "2d72d201-08b7-41f6-d13d-c3cb211f9e04"
      },
      "execution_count": null,
      "outputs": [
        {
          "output_type": "stream",
          "name": "stdout",
          "text": [
            "[1. 1. 1.]\n"
          ]
        }
      ]
    },
    {
      "cell_type": "markdown",
      "source": [
        "総消費もこれに伴って変化するため、それを計算しておく\n",
        "$$ X_{i}' = \\hat{w}_{i} X_{i} $$"
      ],
      "metadata": {
        "id": "kBLoaBVoSP3_"
      }
    },
    {
      "cell_type": "code",
      "source": [
        "Xn1 = what * Xn\n",
        "print(Xn1)"
      ],
      "metadata": {
        "colab": {
          "base_uri": "https://localhost:8080/"
        },
        "id": "0ykl6MqOSdub",
        "outputId": "dd831ece-5080-4202-e8a4-561772faeac4"
      },
      "execution_count": null,
      "outputs": [
        {
          "output_type": "stream",
          "name": "stdout",
          "text": [
            "[0.26057545 0.36971227 0.36971227]\n"
          ]
        }
      ]
    },
    {
      "cell_type": "markdown",
      "source": [
        "この$\\boldsymbol{\\hat{w}}$から$\\boldsymbol{\\hat{\\pi}}$を計算する\n",
        "$$ \\hat{\\pi}_{ni} = \\frac{(\\hat{w}_i \\hat{d}_{ni})^{-\\theta}}{ \\sum_{k=1}^N \\pi_{nk} (\\hat{w}_k \\hat{d}_{nk})^{-\\theta} } $$\n",
        "そして価格指数も計算する\n",
        "$$ \\hat{P}_n = \\left( \\sum_{k=1}^N \\pi_{nk} (\\hat{w}_k \\hat{d}_{nk})^{-\\theta} \\right)^{-1/\\theta} $$"
      ],
      "metadata": {
        "id": "hFBJBMk3MDfL"
      }
    },
    {
      "cell_type": "code",
      "source": [
        "pihat = np.zeros((N,N))\n",
        "pihat_num = np.zeros((N,N))\n",
        "pihat_den = np.zeros((N))\n",
        "\n",
        "for OR,DE in np.ndindex((N,N)):\n",
        "  pihat_num[OR,DE] = (what[OR] * dhat[OR,DE] )**(-theta)\n",
        "  pihat_den[DE] += pi[OR,DE] * pihat_num[OR,DE] # pihat_den[DE] = pihat_den[DE] + pihat_num[OR,DE]\n",
        "\n",
        "for OR,DE in np.ndindex((N,N)):\n",
        "  pihat[OR,DE] = pihat_num[OR,DE] / pihat_den[DE]\n",
        "\n",
        "Phat = pihat_den ** (-1/theta)\n",
        "\n",
        "print(pihat)\n",
        "print(pihat * pi)\n",
        "print(np.sum(pihat*pi,axis=0))"
      ],
      "metadata": {
        "colab": {
          "base_uri": "https://localhost:8080/"
        },
        "id": "DePy2TZuOBGg",
        "outputId": "e8280f0c-8c1a-476e-f9c7-03ada9341bc8"
      },
      "execution_count": null,
      "outputs": [
        {
          "output_type": "stream",
          "name": "stdout",
          "text": [
            "[[0.67736806 1.77151002 1.77151002]\n",
            " [1.65373062 0.7256105  1.77151002]\n",
            " [1.65373062 1.77151002 0.7256105 ]]\n",
            "[[0.45353669 0.20662679 0.20662679]\n",
            " [0.27323165 0.53524814 0.25812507]\n",
            " [0.27323165 0.25812507 0.53524814]]\n",
            "[1. 1. 1.]\n"
          ]
        }
      ]
    },
    {
      "cell_type": "markdown",
      "source": [
        "ここで新しい貿易額を計算しておく\n",
        "$$ X'_{ni} = \\pi_{ni} \\hat{\\pi}_{ni} X'_{i} $$"
      ],
      "metadata": {
        "id": "SAjEwi-XIW-_"
      }
    },
    {
      "cell_type": "code",
      "source": [
        "X1 = np.zeros((N,N))\n",
        "for OR,DE in np.ndindex((N,N)):\n",
        "  X1[OR,DE] = pi[OR,DE] * pihat[OR,DE] * Xn1[DE]\n"
      ],
      "metadata": {
        "id": "N43FhqI-IkGT"
      },
      "execution_count": null,
      "outputs": []
    },
    {
      "cell_type": "markdown",
      "source": [
        "仮置きされた$ \\boldsymbol{\\hat{w}}$の下で、労働市場均衡が成立しているかを確認します。労働市場が均衡しているということは\n",
        "\n",
        "$$  L^S_{i} = \\frac{\\sum_{n=1}^N X_{ni}'}{w'_i} $$\n",
        "\n",
        "となっていなくてはなりません。両辺を$w_i'$で掛け算し、hatで表現すると\n",
        "$$ \\hat{w}_i w_i L_{i} = \\sum_{n=1}^N X_{ni}' $$\n",
        "左を労働供給、右を労働需要ととらえ、この差を超過需要として計算してます"
      ],
      "metadata": {
        "id": "z-7GaCzcTkRh"
      }
    },
    {
      "cell_type": "code",
      "source": [
        "wL_D = np.zeros((N))\n",
        "wL_S = w * what * L\n",
        "\n",
        "for OR,DE in np.ndindex((N,N)):\n",
        "  wL_D[OR] += X1[OR,DE]\n",
        "\n",
        "Z = (wL_D - wL_S) / what\n",
        "print(Z)"
      ],
      "metadata": {
        "colab": {
          "base_uri": "https://localhost:8080/"
        },
        "id": "87AOoX6ARB7H",
        "outputId": "f4e44814-ab7b-49fd-9b41-8617a7c59939"
      },
      "execution_count": null,
      "outputs": [
        {
          "output_type": "stream",
          "name": "stdout",
          "text": [
            "[ 0.00804371 -0.00406925 -0.00406925]\n"
          ]
        }
      ]
    },
    {
      "cell_type": "markdown",
      "source": [
        "モデルを解くのと同様に超過需要から$\\boldsymbol{\\hat{w}}$をアップデートします。$\\psi$を設定しておきます。\n",
        "$$ \\hat{w}_{new,i} = \\hat{w}_i * \\left(1 + \\psi * \\frac{Z_i}{X'_{i}}\\right) $$"
      ],
      "metadata": {
        "id": "koRuDn26_BKH"
      }
    },
    {
      "cell_type": "code",
      "source": [
        "psi = 0.1 # 収束のスピードをコントロールするパラメーター\n",
        "\n",
        "what_new = what * (1 + psi * (Z / Xn1) )"
      ],
      "metadata": {
        "id": "H-6FsNVS_KaG"
      },
      "execution_count": null,
      "outputs": []
    },
    {
      "cell_type": "markdown",
      "source": [
        "ここで新しい$\\boldsymbol{\\hat{w}}$と古い$\\boldsymbol{\\hat{w}}$を比較します。ちゃんと超過需要が発生していた国において賃金が高くなっているか確認できるはずです。"
      ],
      "metadata": {
        "id": "Fps2FGRcA2fV"
      }
    },
    {
      "cell_type": "code",
      "source": [
        "print(Z)\n",
        "print(what_new - what)"
      ],
      "metadata": {
        "colab": {
          "base_uri": "https://localhost:8080/"
        },
        "id": "Ro-mFZmTA2Mo",
        "outputId": "81a78497-9942-4d40-9f1f-050f86133eba"
      },
      "execution_count": null,
      "outputs": [
        {
          "output_type": "stream",
          "name": "stdout",
          "text": [
            "[ 0.01037596 -0.00518798 -0.00518798]\n",
            "[ 0.00398194 -0.00140325 -0.00140325]\n"
          ]
        }
      ]
    },
    {
      "cell_type": "markdown",
      "source": [
        "均衡賃金の変化は基準化なしに一意にはきまりません。最後に反実仮想の世界のGDP変化しないように基準化しておきます。"
      ],
      "metadata": {
        "id": "IrAT4JoZA_Jx"
      }
    },
    {
      "cell_type": "code",
      "source": [
        "wgdp1 = np.sum(what_new * Xn)\n",
        "wgdp = np.sum(Xn)\n",
        "print(wgdp1)\n",
        "what_new = what_new / wgdp1 * wgdp\n",
        "print(what_new)"
      ],
      "metadata": {
        "colab": {
          "base_uri": "https://localhost:8080/"
        },
        "id": "jgrAtCA_BGtZ",
        "outputId": "b17c8170-9630-467d-f8e8-40f2416c9b01"
      },
      "execution_count": null,
      "outputs": [
        {
          "output_type": "stream",
          "name": "stdout",
          "text": [
            "0.9999999999999998\n",
            "[1.00398194 0.99859675 0.99859675]\n"
          ]
        }
      ]
    },
    {
      "cell_type": "markdown",
      "source": [
        "# Exact Hat Algebraを関数化\n",
        "\n",
        "いままでの流れをまとめると\n",
        "\n",
        "\n",
        "1.   パラメーターを設定する\n",
        "2.   仮定した賃金変化をもとに、輸入シェアの変化、貿易額の変化を計算する\n",
        "3.   新しい貿易額を用いて、労働市場の均衡をチェックする\n",
        "4.   労働の超過需要を用いて、仮置きした賃金変化を更新していく。\n",
        "\n",
        "この2から4を**関数**にまとめます。"
      ],
      "metadata": {
        "id": "IBZMdBi3Fvvt"
      }
    },
    {
      "cell_type": "code",
      "source": [
        "def updatewagehat(what,dhat,theta,N,X,psi):\n",
        "\n",
        "  # 総需要を計算する\n",
        "  Xn = np.sum(X,axis=0)\n",
        "  Xn1 = what * Xn\n",
        "\n",
        "  # 輸入シェアを計算する\n",
        "  for OR,DE in np.ndindex((N,N)):\n",
        "    pi[OR,DE] = X[OR,DE] / Xn[DE]\n",
        "\n",
        "  # 輸入シェアの変化を計算する\n",
        "  pihat = np.zeros((N,N))\n",
        "  pihat_num = np.zeros((N,N))\n",
        "  pihat_den = np.zeros((N))\n",
        "  for OR,DE in np.ndindex((N,N)):\n",
        "    pihat_num[OR,DE] = (what[OR] * dhat[OR,DE] )**(-theta)\n",
        "    pihat_den[DE] += pi[OR,DE] * pihat_num[OR,DE]\n",
        "  for OR,DE in np.ndindex((N,N)):\n",
        "    pihat[OR,DE] = pihat_num[OR,DE] / pihat_den[DE]\n",
        "\n",
        "  # 価格指数の変化を計算する\n",
        "  Phat = pihat_den ** (-1/theta)\n",
        "\n",
        "  # 新しい貿易額を計算する\n",
        "  X1 = np.zeros((N,N))\n",
        "  for OR,DE in np.ndindex((N,N)):\n",
        "    X1[OR,DE] = pi[OR,DE] * pihat[OR,DE] * Xn1[DE]\n",
        "\n",
        "  # 新しい均衡での労働市場均衡を計算する\n",
        "  wL_D = np.zeros((N))\n",
        "  wL_S = w * what * L\n",
        "  for OR,DE in np.ndindex((N,N)):\n",
        "    wL_D[OR] += X1[OR,DE]\n",
        "  Z = (wL_D - wL_S) / what\n",
        "\n",
        "  # 賃金を更新、基準化する\n",
        "  what_new = what * (1 + psi * (Z / Xn1) )\n",
        "  wgdp1 = np.sum(Xn1)\n",
        "  wgdp = np.sum(Xn)\n",
        "  what_new = what_new / wgdp1 * wgdp\n",
        "\n",
        "  return what_new,Z,Phat,X1"
      ],
      "metadata": {
        "id": "VJ-ONXPBF3q4"
      },
      "execution_count": null,
      "outputs": []
    },
    {
      "cell_type": "markdown",
      "source": [
        "ここでちゃんと結果が前の関数なしで書いたiterationと一致するかを確認します。"
      ],
      "metadata": {
        "id": "ln8v6OPcBF65"
      }
    },
    {
      "cell_type": "code",
      "source": [
        "what_newfunc,_,_,_ = updatewagehat(what,dhat=dhat,theta=theta,N=N,X=X,psi=psi)\n",
        "print(what_newfunc)\n",
        "print(what_new)"
      ],
      "metadata": {
        "colab": {
          "base_uri": "https://localhost:8080/"
        },
        "id": "8nUgoMmZJVs_",
        "outputId": "e1a7147b-a39a-43e4-e9db-5b6d6b8f79df"
      },
      "execution_count": null,
      "outputs": [
        {
          "output_type": "stream",
          "name": "stdout",
          "text": [
            "[1.00869963 0.99693413 0.99693413]\n",
            "[1.00398194 0.99859675 0.99859675]\n"
          ]
        }
      ]
    },
    {
      "cell_type": "markdown",
      "source": [
        "最後にwhile-loopを用いて$\\boldsymbol{\\hat{w}}$が均衡条件を満たすまで更新していきます"
      ],
      "metadata": {
        "id": "2mZnhB2fJpv8"
      }
    },
    {
      "cell_type": "code",
      "source": [
        "tol = 0.0001\n",
        "iter = 1\n",
        "\n",
        "Z = np.ones((N))\n",
        "what = np.ones((N))\n",
        "while max(np.abs(Z)) > tol and iter < 100:\n",
        "  iter += 1\n",
        "  what_old = np.copy(what)\n",
        "  what,Z,_,_ = updatewagehat(what,dhat=dhat,theta=theta,N=N,X=X,psi=0.1)\n",
        "  if iter % 10 == 0:\n",
        "    print(iter)\n",
        "    print(Z)\n",
        "    print(what)\n",
        "\n",
        "  if max(np.abs(Z)) < tol:\n",
        "    print(\"Done!\")\n",
        "    print(iter)\n",
        "    print(Z)\n",
        "    print(what)\n"
      ],
      "metadata": {
        "colab": {
          "base_uri": "https://localhost:8080/"
        },
        "id": "NT9LvlmuKAnS",
        "outputId": "81ce5cdc-e387-4034-da8b-2db95a1b423e"
      },
      "execution_count": null,
      "outputs": [
        {
          "output_type": "stream",
          "name": "stdout",
          "text": [
            "10\n",
            "[ 8.34014292e-05 -4.22723491e-05 -4.22723491e-05]\n",
            "[1.00868191 0.99694031 0.99694031]\n",
            "Done!\n",
            "10\n",
            "[ 8.34014292e-05 -4.22723491e-05 -4.22723491e-05]\n",
            "[1.00868191 0.99694031 0.99694031]\n"
          ]
        }
      ]
    },
    {
      "cell_type": "markdown",
      "source": [
        "これが均衡を計算しなおした値と一致するか確認します\n",
        "\n",
        "$$ \\hat{U}_i = \\hat{w}_i / \\hat{P}_i $$"
      ],
      "metadata": {
        "id": "_jHa4eKCLBve"
      }
    },
    {
      "cell_type": "code",
      "source": [
        "Uhat = what / Phat\n",
        "Uhat_rs = U_cf/U\n",
        "what_rs = w_cf/w\n",
        "\n",
        "print(Uhat)\n",
        "print(Uhat_rs)\n",
        "print(what)\n",
        "print(what_rs)"
      ],
      "metadata": {
        "colab": {
          "base_uri": "https://localhost:8080/"
        },
        "id": "gXtSt_dvLim9",
        "outputId": "4d891dc2-1837-4b6c-8704-60984735f700"
      },
      "execution_count": null,
      "outputs": [
        {
          "output_type": "stream",
          "name": "stdout",
          "text": [
            "[1.10943559 1.08091798 1.08091798]\n",
            "[1.09990159 1.08422993 1.08422993]\n",
            "[1.00868191 0.99694031 0.99694031]\n",
            "[1.00861942 0.99696227 0.99696227]\n"
          ]
        }
      ]
    }
  ]
}