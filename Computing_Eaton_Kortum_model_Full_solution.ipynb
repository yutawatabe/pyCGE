{
  "nbformat": 4,
  "nbformat_minor": 0,
  "metadata": {
    "colab": {
      "provenance": [],
      "toc_visible": true,
      "authorship_tag": "ABX9TyPvNSD6yTajj4xOiEcB+HzP",
      "include_colab_link": true
    },
    "kernelspec": {
      "name": "python3",
      "display_name": "Python 3"
    },
    "language_info": {
      "name": "python"
    }
  },
  "cells": [
    {
      "cell_type": "markdown",
      "metadata": {
        "id": "view-in-github",
        "colab_type": "text"
      },
      "source": [
        "<a href=\"https://colab.research.google.com/github/yutawatabe/pyCGE/blob/main/Computing_Eaton_Kortum_model_Full_solution.ipynb\" target=\"_parent\"><img src=\"https://colab.research.google.com/assets/colab-badge.svg\" alt=\"Open In Colab\"/></a>"
      ]
    },
    {
      "cell_type": "markdown",
      "source": [
        "# **パラメーターから均衡へ**\n",
        "\n",
        "シミュレートした適当なパラメーターから均衡の計算を行う。"
      ],
      "metadata": {
        "id": "XV5vNHAwd6a7"
      }
    },
    {
      "cell_type": "code",
      "source": [
        "# numpy, mathをインポート\n",
        "import numpy as np # 行列計算のライブラリ\n",
        "from math import gamma # 価格指数のため"
      ],
      "metadata": {
        "id": "7WLt4RIYIuxU"
      },
      "execution_count": 3,
      "outputs": []
    },
    {
      "cell_type": "markdown",
      "source": [
        "## まずパラメーターを設定する。"
      ],
      "metadata": {
        "id": "EmqqODmOIoZ3"
      }
    },
    {
      "cell_type": "code",
      "execution_count": 4,
      "metadata": {
        "id": "ejM5utGkF5nn"
      },
      "outputs": [],
      "source": [
        "N = 3 # 国の数\n",
        "theta = 4 # 貿易弾力性のパラメーター\n",
        "sigma = 3 # 代替の弾力性のパラメーター"
      ]
    },
    {
      "cell_type": "code",
      "source": [
        "T = np.array([1., 1., 1.]) # 技術パラメーター\n",
        "print(T)\n",
        "print(T.shape)"
      ],
      "metadata": {
        "colab": {
          "base_uri": "https://localhost:8080/"
        },
        "id": "G2_TRcxWH1r-",
        "outputId": "87738455-6753-48fb-9682-fbb0d0415afc"
      },
      "execution_count": 5,
      "outputs": [
        {
          "output_type": "stream",
          "name": "stdout",
          "text": [
            "[1. 1. 1.]\n",
            "(3,)\n"
          ]
        }
      ]
    },
    {
      "cell_type": "code",
      "source": [
        "L = np.array([1,1.5,1.5]) # 人口\n",
        "print(L)\n",
        "print(L.shape)"
      ],
      "metadata": {
        "colab": {
          "base_uri": "https://localhost:8080/"
        },
        "id": "8yR40FyqH9oU",
        "outputId": "fa145aeb-ae44-437c-d409-d779517e466c"
      },
      "execution_count": 6,
      "outputs": [
        {
          "output_type": "stream",
          "name": "stdout",
          "text": [
            "[1.  1.5 1.5]\n",
            "(3,)\n"
          ]
        }
      ]
    },
    {
      "cell_type": "markdown",
      "source": [
        "$\\boldsymbol{d}$を設定する。まず $\\boldsymbol{d}$のすべての要素を1.5として、そのあとにループを使用して国内貿易費用を1に変更する。"
      ],
      "metadata": {
        "id": "XLpJmOpfjucF"
      }
    },
    {
      "cell_type": "code",
      "source": [
        "d = np.ones((N,N)) * 1.5 # 貿易費用\n",
        "print(d)\n",
        "print(d.shape)\n",
        "for OR in np.ndindex((N)):\n",
        "  d[OR,OR] = 1 #国内貿易費用は1\n",
        "\n",
        "print(d)"
      ],
      "metadata": {
        "colab": {
          "base_uri": "https://localhost:8080/"
        },
        "id": "p_yih9k-H6dC",
        "outputId": "3bfba85b-6d25-430d-c250-c006e9093722"
      },
      "execution_count": 22,
      "outputs": [
        {
          "output_type": "stream",
          "name": "stdout",
          "text": [
            "[[1.5 1.5 1.5]\n",
            " [1.5 1.5 1.5]\n",
            " [1.5 1.5 1.5]]\n",
            "(3, 3)\n",
            "[[1.  1.5 1.5]\n",
            " [1.5 1.  1.5]\n",
            " [1.5 1.5 1. ]]\n"
          ]
        }
      ]
    },
    {
      "cell_type": "markdown",
      "source": [
        "**仮置きした賃金での均衡が成立しているか確認**\n",
        "\n",
        "仮に国の賃金が同一として、果たして労働市場（財市場）が均衡するかを見ていく。候補として全ての国 $i$ に対して\n",
        "$$ w_i = 1 $$\n",
        "を考えてみる。\n"
      ],
      "metadata": {
        "id": "9-l0QARYeRv4"
      }
    },
    {
      "cell_type": "code",
      "source": [
        "w = np.ones((N))\n",
        "print(w)"
      ],
      "metadata": {
        "colab": {
          "base_uri": "https://localhost:8080/"
        },
        "id": "0YhFoXwrgQ5z",
        "outputId": "0de283db-1fee-4ff9-cb52-f6f79acd1e16"
      },
      "execution_count": 8,
      "outputs": [
        {
          "output_type": "stream",
          "name": "stdout",
          "text": [
            "[1. 1. 1.]\n"
          ]
        }
      ]
    },
    {
      "cell_type": "markdown",
      "source": [
        "まず総所得（消費）を計算しておく。$X_n$を総消費とする。この経済では労働のみが生産要素なので、\n",
        "$$Y_n = X_n = w_n L_n$$\n",
        "となる。"
      ],
      "metadata": {
        "id": "MGliF4mtmZY-"
      }
    },
    {
      "cell_type": "code",
      "source": [
        "Xn = w * L\n",
        "print(Xn)"
      ],
      "metadata": {
        "colab": {
          "base_uri": "https://localhost:8080/"
        },
        "id": "S0_mp0ZUmyr6",
        "outputId": "b0e473ae-b471-4485-8bef-8fd1cf28c88e"
      },
      "execution_count": 9,
      "outputs": [
        {
          "output_type": "stream",
          "name": "stdout",
          "text": [
            "[1.  1.5 1.5]\n"
          ]
        }
      ]
    },
    {
      "cell_type": "markdown",
      "source": [
        "輸入シェアを計算する前に、とりあえずLoopについて説明しておく。\n"
      ],
      "metadata": {
        "id": "JM3mPSm4gHG1"
      }
    },
    {
      "cell_type": "code",
      "source": [
        "for OR in np.ndindex((N)):\n",
        "  print(OR)\n",
        "\n",
        "for OR,DE in np.ndindex((N,N)):\n",
        "  print([OR,DE])"
      ],
      "metadata": {
        "colab": {
          "base_uri": "https://localhost:8080/"
        },
        "id": "SW3lqOhWJYR8",
        "outputId": "1e2dd987-9ce1-43ba-d556-d618a94e7234"
      },
      "execution_count": 23,
      "outputs": [
        {
          "output_type": "stream",
          "name": "stdout",
          "text": [
            "(0,)\n",
            "(1,)\n",
            "(2,)\n",
            "[0, 0]\n",
            "[0, 1]\n",
            "[0, 2]\n",
            "[1, 0]\n",
            "[1, 1]\n",
            "[1, 2]\n",
            "[2, 0]\n",
            "[2, 1]\n",
            "[2, 2]\n"
          ]
        }
      ]
    },
    {
      "cell_type": "markdown",
      "source": [
        "輸入シェアを計算する。\n",
        "$$ \\pi_{ni} = \\frac{ T_{i} (w_{i} d_{ni})^{-\\theta} }{\\sum_{k=1} T_{k} (w_{k} d_{ki})^{-\\theta} }   $$\n",
        "コーディングの際には以下のような表記を用いる。\n",
        "$$ \\pi_{ni} = \\frac{\\pi_{ni,num}}{\\Phi_{n}} $$\n",
        "ここでは\n",
        "$$ \\pi_{ni,num} = T_{i} (w_{i} d_{ni})^{-\\theta} $$\n",
        "であり、\n",
        "$$ \\Phi_{n} = \\sum_{k=1}^N T_{i} (w_{k} d_{nk})^{-\\theta} $$\n",
        "となっている。\n"
      ],
      "metadata": {
        "id": "RyD6me-XgB9U"
      }
    },
    {
      "cell_type": "code",
      "source": [
        "pi = np.zeros((N,N)) # 輸入シェア（n国の総消費のうち、i国の財が何割を占めるか）\n",
        "pi_num = np.zeros((N,N)) # 輸入シェアの分子部分\n",
        "Phi = np.zeros((N)) # 輸入シェアの分母部分\n",
        "\n",
        "for OR,DE in np.ndindex((N,N)):\n",
        "  pi_num[OR,DE] = T[OR] * (w[OR] * d[OR,DE]) ** (-theta)\n",
        "  Phi[DE] += pi_num[OR,DE] # pi_den[DE] = pi_den[DE] + pi_num[OR,DE]\n",
        "\n",
        "for OR,DE in np.ndindex((N,N)):\n",
        "  pi[OR,DE] = pi_num[OR,DE] / Phi[DE]\n",
        "\n",
        "print(pi)"
      ],
      "metadata": {
        "colab": {
          "base_uri": "https://localhost:8080/"
        },
        "id": "vG2HtS4SW79e",
        "outputId": "3de7b71a-9c83-42a1-d956-9e99b06bbe71"
      },
      "execution_count": 24,
      "outputs": [
        {
          "output_type": "stream",
          "name": "stdout",
          "text": [
            "[[0.71681416 0.14159292 0.14159292]\n",
            " [0.14159292 0.71681416 0.14159292]\n",
            " [0.14159292 0.14159292 0.71681416]]\n"
          ]
        }
      ]
    },
    {
      "cell_type": "markdown",
      "source": [
        "ここで、$\\pi_{in}$の定義上、$ \\sum_{i=1}^N \\pi_{in} = 1 $ が成立するはず。\n",
        "また仮置きした賃金が同一であり、国の技術、貿易費用が対象のため、$\\boldsymbol{\\pi}$も対称になる。それを上で確認する。\n",
        "\n",
        "ここから価格指数を計算しておく（あとで厚生の評価に使う）\n",
        "$$ P_{n} = \\Gamma \\left( \\frac{\\theta + \\sigma -1}{\\theta} \\right) \\Phi_{n}^{-1/\\theta} $$"
      ],
      "metadata": {
        "id": "6DIAFEAuhoCF"
      }
    },
    {
      "cell_type": "code",
      "source": [
        "P = gamma((theta + sigma - 1) / theta) **(1/(1-sigma)) * Phi ** (-1/theta)\n",
        "print(P)"
      ],
      "metadata": {
        "colab": {
          "base_uri": "https://localhost:8080/"
        },
        "id": "AFjgvl7WGFPo",
        "outputId": "094a7b29-81ec-47a8-bc33-90c06b6cd371"
      },
      "execution_count": 25,
      "outputs": [
        {
          "output_type": "stream",
          "name": "stdout",
          "text": [
            "[0.97741539 0.97741539 0.97741539]\n"
          ]
        }
      ]
    },
    {
      "cell_type": "markdown",
      "source": [
        "$i$ 国から $n$ 国への輸出は、輸入シェアに輸入国の総消費をかけたものになる。\n",
        "$$X_{in} = \\pi_{in} X_n $$"
      ],
      "metadata": {
        "id": "AlrFw4rzmRgb"
      }
    },
    {
      "cell_type": "code",
      "source": [
        "X = np.zeros((N,N))\n",
        "for OR,DE in np.ndindex((N,N)):\n",
        "  X[OR,DE] = pi[OR,DE] * Xn[DE]\n",
        "\n",
        "print(X)"
      ],
      "metadata": {
        "colab": {
          "base_uri": "https://localhost:8080/"
        },
        "id": "6zVtLZQKmUM3",
        "outputId": "067727c4-3ad8-41d6-b125-74141546f2a3"
      },
      "execution_count": 26,
      "outputs": [
        {
          "output_type": "stream",
          "name": "stdout",
          "text": [
            "[[0.71681416 0.21238938 0.21238938]\n",
            " [0.14159292 1.07522124 0.21238938]\n",
            " [0.14159292 0.21238938 1.07522124]]\n"
          ]
        }
      ]
    },
    {
      "cell_type": "markdown",
      "source": [
        "ここでは$\\boldsymbol{\\pi}$のように足して1にならず、対称でもない。これは需要規模が国によって違うため（消費者の数が違う）。"
      ],
      "metadata": {
        "id": "LPlMHGkiofd8"
      }
    },
    {
      "cell_type": "markdown",
      "source": [
        "**労働市場の均衡の確認**\n",
        "\n",
        "まず労働供給は固定であり、$\\boldsymbol{L} = \\boldsymbol{L}_S$になる。"
      ],
      "metadata": {
        "id": "xOgPAzm8kNSO"
      }
    },
    {
      "cell_type": "code",
      "source": [
        "L_S = L\n",
        "print(L)"
      ],
      "metadata": {
        "colab": {
          "base_uri": "https://localhost:8080/"
        },
        "id": "UrgkduSlj9mL",
        "outputId": "71f6f7cc-9ef6-4265-c232-dca4ef6023f9"
      },
      "execution_count": 27,
      "outputs": [
        {
          "output_type": "stream",
          "name": "stdout",
          "text": [
            "[1.  1.5 1.5]\n"
          ]
        }
      ]
    },
    {
      "cell_type": "markdown",
      "source": [
        "労働需要は、総売上を賃金で割ると導ける。数学的には\n",
        "$$ L_{i,D} = \\frac{ X_{in}}{w_i} $$\n",
        "が労働需要になる。これを計算して、労働の超過需要をZを求めてあげる。\n",
        "$$ Z_{i} = L_{i,D} - L_i $$"
      ],
      "metadata": {
        "id": "a0Y4xdSmk2zj"
      }
    },
    {
      "cell_type": "code",
      "source": [
        "L_D = np.zeros((N))\n",
        "for OR,DE in np.ndindex((N,N)):\n",
        "  L_D[OR] += X[OR,DE] / w[OR] # L_D[OR] = L_D[OR] + X[OR,DE] / w[OR]\n",
        "\n",
        "Z = L_D - L_S"
      ],
      "metadata": {
        "id": "GcopTU0Vnuej"
      },
      "execution_count": 28,
      "outputs": []
    },
    {
      "cell_type": "markdown",
      "source": [
        "この賃金が労働市場を均衡させる賃金なら、Zはどの国でも0になるはず。"
      ],
      "metadata": {
        "id": "gfBC3Jt8oKbd"
      }
    },
    {
      "cell_type": "code",
      "source": [
        "print(Z)"
      ],
      "metadata": {
        "colab": {
          "base_uri": "https://localhost:8080/"
        },
        "id": "9qAi915eoRYT",
        "outputId": "25fd6934-99c0-4c0a-a534-4186897871eb"
      },
      "execution_count": 29,
      "outputs": [
        {
          "output_type": "stream",
          "name": "stdout",
          "text": [
            "[ 0.14159292 -0.07079646 -0.07079646]\n"
          ]
        }
      ]
    },
    {
      "cell_type": "markdown",
      "source": [
        "ならない、ということはこの賃金は均衡賃金ではない！\n",
        "次の賃金候補を探してあげたい。今の賃金を $w^0_i$とし（最初のinterationの賃金）、アップデート方法を考える。ここでは超過需要を用いたアップデータ方を用いる。"
      ],
      "metadata": {
        "id": "Tm0jzSifoROG"
      }
    },
    {
      "cell_type": "code",
      "source": [
        "psi = 0.1 # 収束のスピードをコントロールするパラメーター\n",
        "\n",
        "w_new = w * (1 + psi * (Z / L) )"
      ],
      "metadata": {
        "id": "9wM767WopTRh"
      },
      "execution_count": 30,
      "outputs": []
    },
    {
      "cell_type": "markdown",
      "source": [
        "ここで新しい$w$と古い$w$を比較する。ちゃんと超過需要が発生していた国において賃金が高くなっているか確認できるはず。"
      ],
      "metadata": {
        "id": "oFLxf4KuoJhJ"
      }
    },
    {
      "cell_type": "code",
      "source": [
        "print(Z)\n",
        "print(w_new - w)"
      ],
      "metadata": {
        "colab": {
          "base_uri": "https://localhost:8080/"
        },
        "id": "d8IMJznXqFex",
        "outputId": "a7d38e02-814d-4ab7-e339-dcf0ca3dbfda"
      },
      "execution_count": 31,
      "outputs": [
        {
          "output_type": "stream",
          "name": "stdout",
          "text": [
            "[ 0.14159292 -0.07079646 -0.07079646]\n",
            "[ 0.01415929 -0.00471976 -0.00471976]\n"
          ]
        }
      ]
    },
    {
      "cell_type": "markdown",
      "source": [
        "均衡賃金は基準化なしに一意にはきまらない。最後に世界のGDPが1になるように基準化しておく。"
      ],
      "metadata": {
        "id": "TsTtoAz5qPyC"
      }
    },
    {
      "cell_type": "code",
      "source": [
        "wgdp = np.sum(w_new * L)\n",
        "print(wgdp)\n",
        "w_new = w_new / wgdp\n",
        "print(w_new)"
      ],
      "metadata": {
        "colab": {
          "base_uri": "https://localhost:8080/"
        },
        "id": "Jiz2aVTgqj-k",
        "outputId": "d5ccd270-43f2-4091-b8d5-5083935d1517"
      },
      "execution_count": 32,
      "outputs": [
        {
          "output_type": "stream",
          "name": "stdout",
          "text": [
            "4.0\n",
            "[0.25353982 0.24882006 0.24882006]\n"
          ]
        }
      ]
    },
    {
      "cell_type": "markdown",
      "source": [
        "いままでの流れをまとめると\n",
        "\n",
        "\n",
        "1.   パラメーターを設定する\n",
        "2.   仮定した賃金をもとに、輸入シェア、貿易額を計算する\n",
        "3.   貿易額を用いて、労働市場の均衡をチェックする\n",
        "4.   労働の超過需要を用いて、仮置きした賃金を更新していく。\n",
        "\n",
        "この2から4を**関数**にまとめる。\n"
      ],
      "metadata": {
        "id": "msJAEo7-q2i_"
      }
    },
    {
      "cell_type": "code",
      "source": [
        "def updatewage(w,theta,sigma,N,L,T,d,psi):\n",
        "  Xn = w * L\n",
        "\n",
        "  pi = np.zeros((N,N)) # 輸入シェア（n国の総消費のうち、i国の財が何割を占めるか）\n",
        "  pi_num = np.zeros((N,N)) # 輸入シェアの分子部分\n",
        "  pi_den = np.zeros((N)) # 輸入シェアの分母部分\n",
        "  for OR,DE in np.ndindex((N,N)):\n",
        "    pi_num[OR,DE] = T[OR] * (w[OR] * d[OR,DE]) ** (-theta)\n",
        "    pi_den[DE] += pi_num[OR,DE] # pi_den[DE] = pi_den[DE] + pi_num[OR,DE]\n",
        "\n",
        "  for OR,DE in np.ndindex((N,N)):\n",
        "    pi[OR,DE] = pi_num[OR,DE] / pi_den[DE]\n",
        "\n",
        "  P = gamma((theta + sigma - 1) / theta) **(1/(1-sigma)) * Phi ** (-1/theta)\n",
        "\n",
        "  X = np.zeros((N,N))\n",
        "  for OR,DE in np.ndindex((N,N)):\n",
        "    X[OR,DE] = pi[OR,DE] * Xn[DE]\n",
        "\n",
        "  L_S = L\n",
        "  L_D = np.zeros((N))\n",
        "  for OR,DE in np.ndindex((N,N)):\n",
        "    L_D[OR] += X[OR,DE] / w[OR] # L_D[OR] = L_D[OR] + X[OR,DE] / w[OR]\n",
        "\n",
        "  Z = L_D - L_S\n",
        "  w_new = w * (1 + psi * (Z / L) )\n",
        "\n",
        "  wgdp = np.sum(w_new * L)\n",
        "  w_new = w_new / wgdp\n",
        "\n",
        "  return w_new,Z,P,X"
      ],
      "metadata": {
        "id": "jg-qpBE-rTGN"
      },
      "execution_count": 35,
      "outputs": []
    },
    {
      "cell_type": "markdown",
      "source": [
        "ここでちゃんと結果が前の関数なしで書いたiterationと一致するかを確認する"
      ],
      "metadata": {
        "id": "6d339SxLsllg"
      }
    },
    {
      "cell_type": "code",
      "source": [
        "w_newfunc,_,_,_ = updatewage(w,theta=theta,sigma=sigma,N=N,L=L,T=T,d=d,psi=psi)\n",
        "print(w_newfunc)\n",
        "print(w_new)"
      ],
      "metadata": {
        "colab": {
          "base_uri": "https://localhost:8080/"
        },
        "id": "hZ5Noj83s2Jl",
        "outputId": "30a89b0d-a185-4947-bebe-572a268a6c6f"
      },
      "execution_count": 39,
      "outputs": [
        {
          "output_type": "stream",
          "name": "stdout",
          "text": [
            "[0.25353982 0.24882006 0.24882006]\n",
            "[0.25353982 0.24882006 0.24882006]\n"
          ]
        }
      ]
    },
    {
      "cell_type": "markdown",
      "source": [
        "# While-loopの導入\n",
        "\n",
        "ここではwhile loopを用いて、賃金が超過需要を十分に小さくするまで、更新を続けていくようなコードを書いていく。ここで閾値tolを定義する。"
      ],
      "metadata": {
        "id": "5epOEHyOs12O"
      }
    },
    {
      "cell_type": "code",
      "source": [
        "tol = 0.0001\n",
        "iter = 1\n",
        "\n",
        "Z = np.ones((N))\n",
        "w = np.ones((N))\n",
        "while max(np.abs(Z)) > tol and iter < 100:\n",
        "  iter += 1\n",
        "  w_old = np.copy(w)\n",
        "  w,Z,_,_ = updatewage(w,theta=4,sigma=3,N=3,L=L,T=T,d=d,psi=0.1)\n",
        "  if iter % 10 == 0:\n",
        "    print(iter)\n",
        "    print(Z)\n",
        "    print(w)\n",
        "\n",
        "print(\"Done?\")\n",
        "\n",
        "w,Z,P,X = updatewage(w,theta=4,sigma=3,N=3,L=L,T=T,d=d,psi=0.1)\n",
        "print(Z)\n",
        "print(w)\n"
      ],
      "metadata": {
        "colab": {
          "base_uri": "https://localhost:8080/"
        },
        "id": "KYG-ECJQCSA9",
        "outputId": "93b6e09e-92d0-441e-9e84-f26a7c0f5910"
      },
      "execution_count": 40,
      "outputs": [
        {
          "output_type": "stream",
          "name": "stdout",
          "text": [
            "10\n",
            "[ 0.00559218 -0.00294981 -0.00294981]\n",
            "[0.26031388 0.24656204 0.24656204]\n",
            "20\n",
            "[ 1.13421104e-04 -5.99655974e-05 -5.99655974e-05]\n",
            "[0.26061275 0.24646242 0.24646242]\n",
            "Done?\n",
            "[ 5.20614440e-05 -2.75255293e-05 -2.75255293e-05]\n",
            "[0.26061611 0.2464613  0.2464613 ]\n"
          ]
        }
      ]
    },
    {
      "cell_type": "markdown",
      "source": [
        "最後に厚生を計算します。厚生は\n",
        "$$ U_n = \\frac{w_n}{P_n} $$\n",
        "となります。"
      ],
      "metadata": {
        "id": "lSZXD3uWCRgn"
      }
    },
    {
      "cell_type": "code",
      "source": [
        "U = w / P\n",
        "print(U)"
      ],
      "metadata": {
        "colab": {
          "base_uri": "https://localhost:8080/"
        },
        "id": "LgB7PhI7IZdW",
        "outputId": "28fa2f35-099f-4824-e63f-3d642e86d42f"
      },
      "execution_count": 41,
      "outputs": [
        {
          "output_type": "stream",
          "name": "stdout",
          "text": [
            "[0.26663802 0.25215615 0.25215615]\n"
          ]
        }
      ]
    }
  ]
}